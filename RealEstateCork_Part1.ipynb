{
  "nbformat": 4,
  "nbformat_minor": 0,
  "metadata": {
    "colab": {
      "provenance": []
    },
    "kernelspec": {
      "name": "python3",
      "display_name": "Python 3"
    },
    "language_info": {
      "name": "python"
    }
  },
  "cells": [
    {
      "cell_type": "markdown",
      "source": [
        "<img src=\"https://upload.wikimedia.org/wikipedia/en/5/5e/Munster_Technological_University_Logo%2C_2021.jpg\">"
      ],
      "metadata": {
        "id": "93miO-ZrMcZV"
      }
    },
    {
      "cell_type": "markdown",
      "source": [
        "\n",
        "\n",
        "> Orlando Jr.\n",
        "\n",
        "\n",
        "\n",
        "> Data Science and Analytics - MTU.\n",
        "\n",
        "\n",
        "\n",
        "> Mr. Aengus Daly\n",
        "\n"
      ],
      "metadata": {
        "id": "CKQIGkBMMqeM"
      }
    },
    {
      "cell_type": "markdown",
      "source": [
        "##Import Libs and install packs"
      ],
      "metadata": {
        "id": "q3KLSVJUM7lu"
      }
    },
    {
      "cell_type": "code",
      "source": [
        "!pip install geopy\n",
        "!pip install geopandas\n",
        "import requests\n",
        "from bs4 import BeautifulSoup\n",
        "import pandas as pd\n",
        "from geopandas.tools import geocode\n",
        "import time\n",
        "from geopy.exc import GeocoderTimedOut\n",
        "from geopy.geocoders import ArcGIS\n",
        "import pandas as pd\n",
        "from geopy.geocoders import Nominatim\n",
        "import folium\n",
        "from datetime import datetime\n",
        "from matplotlib import pyplot as plt\n",
        "import plotly.express as px\n",
        "import seaborn as sns\n",
        "\n",
        "# Send a request to the URL\n",
        "url = \"https://www.daft.ie/property-for-sale/cork-city\"\n",
        "response = requests.get(url)\n",
        "array_response = []\n",
        "#for a in range(10):\n",
        " # url = \n",
        "  #print (a)\n",
        "\n"
      ],
      "metadata": {
        "id": "gM9hSh63FgPB"
      },
      "execution_count": null,
      "outputs": []
    },
    {
      "cell_type": "markdown",
      "source": [
        "##Main Function for webscraping Daft.ie"
      ],
      "metadata": {
        "id": "uxpZtmWBNDmp"
      }
    },
    {
      "cell_type": "code",
      "source": [
        "address = []\n",
        "price = []\n",
        "beds = []\n",
        "baths = []\n",
        "area = []\n",
        "\n",
        "#Defining the opencodezscraping function\n",
        "def scrap_daft(webpage, page_number):\n",
        "   next_page = webpage + str(page_number)\n",
        "   response= requests.get(str(next_page))\n",
        "   soup = BeautifulSoup(response.content,\"html.parser\")\n",
        "   soup_address= soup.findAll('h2', class_=\"TitleBlock__Address-sc-1avkvav-8 dzihyY\")\n",
        "   soup_price= soup.findAll('h3', class_=\"TitleBlock__StyledCustomHeading-sc-1avkvav-5 blbeVq\")\n",
        "   soup_beds= soup.findAll( attrs={'data-testid': 'beds'},class_=\"TitleBlock__CardInfoItem-sc-1avkvav-9 iLMdur\")\n",
        "   soup_baths= soup.findAll( attrs={'data-testid': 'baths'},class_=\"TitleBlock__CardInfoItem-sc-1avkvav-9 iLMdur\")\n",
        "   soup_area= soup.findAll( attrs={'data-testid':'floor-area'},class_=\"TitleBlock__CardInfoItem-sc-1avkvav-9 iLMdur\")\n",
        "   \n",
        "#type(soup_beds)\n",
        "   \n",
        "   for x in range(len(soup_address)):\n",
        "      \n",
        "      address.append(soup_address[x].text.strip())\n",
        "      price.append(soup_price[x].text.strip())\n",
        "   for y in range(len(soup_beds)):\n",
        "     beds.append(soup_beds[y].text.strip())\n",
        "   for z in range(len(soup_baths)):\n",
        "     baths.append(soup_baths[z].text.strip())  \n",
        "   for w in range(len(soup_area)):\n",
        "     area.append(soup_area[w].text.strip())  \n",
        "   \n",
        "   #Generating the next page url 1000 is the limit of houses\n",
        "   if page_number < 1000:\n",
        "      page_number = page_number + 20\n",
        "      scrap_daft(webpage, page_number)\n",
        "   \n",
        "   #calling the function\n",
        "scrap_daft('https://www.daft.ie/property-for-sale/cork-city?pageSize=20&propertyType=houses&propertyType=detached-houses&propertyType=semi-detached-houses&propertyType=terraced-houses&propertyType=end-of-terrace-houses&propertyType=townhouses&propertyType=studio-apartments&propertyType=duplexes&propertyType=bungalows&propertyType=apartments&numBaths_from=1&floorSize_from=10&from=', 0)\n"
      ],
      "metadata": {
        "id": "doj_WcJLf_6B"
      },
      "execution_count": null,
      "outputs": []
    },
    {
      "cell_type": "markdown",
      "source": [
        "##Register of Date and Time of data collection"
      ],
      "metadata": {
        "id": "r4pwJgWqNOm7"
      }
    },
    {
      "cell_type": "code",
      "source": [
        "now = datetime.now()\n",
        "current_time = now.strftime(\"%H:%M:%S\")\n",
        "current_date = now.strftime(\"%d/%m/%Y\")\n",
        "print(\"Current Time =\", current_time)\n",
        "print(\"Current Date =\", current_date)"
      ],
      "metadata": {
        "colab": {
          "base_uri": "https://localhost:8080/"
        },
        "id": "wEYt1EcdYLmJ",
        "outputId": "a5f514e8-1c2c-4591-acca-cd37bc6b3f6f"
      },
      "execution_count": null,
      "outputs": [
        {
          "output_type": "stream",
          "name": "stdout",
          "text": [
            "Current Time = 22:11:18\n",
            "Current Date = 02/03/2023\n"
          ]
        }
      ]
    },
    {
      "cell_type": "markdown",
      "source": [
        "##Creating a Data Set with the houses for sale in Cork - Updated Fresh Data!"
      ],
      "metadata": {
        "id": "W67oyR7VNX2S"
      }
    },
    {
      "cell_type": "code",
      "source": [
        "data = { 'Address':address, 'Price':price, 'Beds': beds, 'Baths': baths, 'Area': area}\n",
        "df = pd.DataFrame(data, columns = ['Address','Price', 'Beds','Baths','Area'])"
      ],
      "metadata": {
        "id": "c4XUuacmVDXY"
      },
      "execution_count": null,
      "outputs": []
    },
    {
      "cell_type": "code",
      "source": [
        "df_raw = pd.DataFrame(data, columns = ['Address','Price', 'Beds','Baths','Area'])"
      ],
      "metadata": {
        "id": "1fVMaMQ9D1et"
      },
      "execution_count": null,
      "outputs": []
    },
    {
      "cell_type": "code",
      "source": [
        "df_raw"
      ],
      "metadata": {
        "colab": {
          "base_uri": "https://localhost:8080/",
          "height": 424
        },
        "id": "06Y_OuVdD8Tv",
        "outputId": "e32a0cf2-0561-4133-a380-e5fffb438703"
      },
      "execution_count": null,
      "outputs": [
        {
          "output_type": "execute_result",
          "data": {
            "text/plain": [
              "                                               Address                 Price  \\\n",
              "0               42 Grattan Street, Cork City, Co. Cork              €265,000   \n",
              "1    1 Old Friary Place, Shandon Street, Cork City,...              €275,000   \n",
              "2     179 Kilnap Place, Farranree, Farranree, Co. Cork              €225,000   \n",
              "3      23 Tower Hill, Kilcoolishal, Glanmire, Co. Cork              €580,000   \n",
              "4    14 Crestfield Mews, Riverstown, Glanmire, Co. ...              €290,000   \n",
              "..                                                 ...                   ...   \n",
              "433              Well Road, Douglas, Douglas, Co. Cork              €995,000   \n",
              "434  House Type A, Willsford Castletreasure, Willsf...  Price on Application   \n",
              "435  House Type E, Earls Well, Earls Well, Waterfal...  Price on Application   \n",
              "436  House Type G , Earls Well, Earls Well, Waterfa...  Price on Application   \n",
              "437  Type A , Arlington, Arlington , Kerry Pike, Co...  Price on Application   \n",
              "\n",
              "      Beds   Baths    Area  \n",
              "0    4 Bed  2 Bath  104 m²  \n",
              "1    2 Bed  2 Bath   70 m²  \n",
              "2    3 Bed  1 Bath   75 m²  \n",
              "3    5 Bed  3 Bath  282 m²  \n",
              "4    3 Bed  1 Bath   76 m²  \n",
              "..     ...     ...     ...  \n",
              "433  4 Bed  4 Bath  232 m²  \n",
              "434  4 Bed  3 Bath  180 m²  \n",
              "435  4 Bed  4 Bath  216 m²  \n",
              "436  4 Bed  4 Bath  261 m²  \n",
              "437  4 Bed  3 Bath  157 m²  \n",
              "\n",
              "[438 rows x 5 columns]"
            ],
            "text/html": [
              "\n",
              "  <div id=\"df-8d3a8667-a3fc-4313-b84c-aab2afb12289\">\n",
              "    <div class=\"colab-df-container\">\n",
              "      <div>\n",
              "<style scoped>\n",
              "    .dataframe tbody tr th:only-of-type {\n",
              "        vertical-align: middle;\n",
              "    }\n",
              "\n",
              "    .dataframe tbody tr th {\n",
              "        vertical-align: top;\n",
              "    }\n",
              "\n",
              "    .dataframe thead th {\n",
              "        text-align: right;\n",
              "    }\n",
              "</style>\n",
              "<table border=\"1\" class=\"dataframe\">\n",
              "  <thead>\n",
              "    <tr style=\"text-align: right;\">\n",
              "      <th></th>\n",
              "      <th>Address</th>\n",
              "      <th>Price</th>\n",
              "      <th>Beds</th>\n",
              "      <th>Baths</th>\n",
              "      <th>Area</th>\n",
              "    </tr>\n",
              "  </thead>\n",
              "  <tbody>\n",
              "    <tr>\n",
              "      <th>0</th>\n",
              "      <td>42 Grattan Street, Cork City, Co. Cork</td>\n",
              "      <td>€265,000</td>\n",
              "      <td>4 Bed</td>\n",
              "      <td>2 Bath</td>\n",
              "      <td>104 m²</td>\n",
              "    </tr>\n",
              "    <tr>\n",
              "      <th>1</th>\n",
              "      <td>1 Old Friary Place, Shandon Street, Cork City,...</td>\n",
              "      <td>€275,000</td>\n",
              "      <td>2 Bed</td>\n",
              "      <td>2 Bath</td>\n",
              "      <td>70 m²</td>\n",
              "    </tr>\n",
              "    <tr>\n",
              "      <th>2</th>\n",
              "      <td>179 Kilnap Place, Farranree, Farranree, Co. Cork</td>\n",
              "      <td>€225,000</td>\n",
              "      <td>3 Bed</td>\n",
              "      <td>1 Bath</td>\n",
              "      <td>75 m²</td>\n",
              "    </tr>\n",
              "    <tr>\n",
              "      <th>3</th>\n",
              "      <td>23 Tower Hill, Kilcoolishal, Glanmire, Co. Cork</td>\n",
              "      <td>€580,000</td>\n",
              "      <td>5 Bed</td>\n",
              "      <td>3 Bath</td>\n",
              "      <td>282 m²</td>\n",
              "    </tr>\n",
              "    <tr>\n",
              "      <th>4</th>\n",
              "      <td>14 Crestfield Mews, Riverstown, Glanmire, Co. ...</td>\n",
              "      <td>€290,000</td>\n",
              "      <td>3 Bed</td>\n",
              "      <td>1 Bath</td>\n",
              "      <td>76 m²</td>\n",
              "    </tr>\n",
              "    <tr>\n",
              "      <th>...</th>\n",
              "      <td>...</td>\n",
              "      <td>...</td>\n",
              "      <td>...</td>\n",
              "      <td>...</td>\n",
              "      <td>...</td>\n",
              "    </tr>\n",
              "    <tr>\n",
              "      <th>433</th>\n",
              "      <td>Well Road, Douglas, Douglas, Co. Cork</td>\n",
              "      <td>€995,000</td>\n",
              "      <td>4 Bed</td>\n",
              "      <td>4 Bath</td>\n",
              "      <td>232 m²</td>\n",
              "    </tr>\n",
              "    <tr>\n",
              "      <th>434</th>\n",
              "      <td>House Type A, Willsford Castletreasure, Willsf...</td>\n",
              "      <td>Price on Application</td>\n",
              "      <td>4 Bed</td>\n",
              "      <td>3 Bath</td>\n",
              "      <td>180 m²</td>\n",
              "    </tr>\n",
              "    <tr>\n",
              "      <th>435</th>\n",
              "      <td>House Type E, Earls Well, Earls Well, Waterfal...</td>\n",
              "      <td>Price on Application</td>\n",
              "      <td>4 Bed</td>\n",
              "      <td>4 Bath</td>\n",
              "      <td>216 m²</td>\n",
              "    </tr>\n",
              "    <tr>\n",
              "      <th>436</th>\n",
              "      <td>House Type G , Earls Well, Earls Well, Waterfa...</td>\n",
              "      <td>Price on Application</td>\n",
              "      <td>4 Bed</td>\n",
              "      <td>4 Bath</td>\n",
              "      <td>261 m²</td>\n",
              "    </tr>\n",
              "    <tr>\n",
              "      <th>437</th>\n",
              "      <td>Type A , Arlington, Arlington , Kerry Pike, Co...</td>\n",
              "      <td>Price on Application</td>\n",
              "      <td>4 Bed</td>\n",
              "      <td>3 Bath</td>\n",
              "      <td>157 m²</td>\n",
              "    </tr>\n",
              "  </tbody>\n",
              "</table>\n",
              "<p>438 rows × 5 columns</p>\n",
              "</div>\n",
              "      <button class=\"colab-df-convert\" onclick=\"convertToInteractive('df-8d3a8667-a3fc-4313-b84c-aab2afb12289')\"\n",
              "              title=\"Convert this dataframe to an interactive table.\"\n",
              "              style=\"display:none;\">\n",
              "        \n",
              "  <svg xmlns=\"http://www.w3.org/2000/svg\" height=\"24px\"viewBox=\"0 0 24 24\"\n",
              "       width=\"24px\">\n",
              "    <path d=\"M0 0h24v24H0V0z\" fill=\"none\"/>\n",
              "    <path d=\"M18.56 5.44l.94 2.06.94-2.06 2.06-.94-2.06-.94-.94-2.06-.94 2.06-2.06.94zm-11 1L8.5 8.5l.94-2.06 2.06-.94-2.06-.94L8.5 2.5l-.94 2.06-2.06.94zm10 10l.94 2.06.94-2.06 2.06-.94-2.06-.94-.94-2.06-.94 2.06-2.06.94z\"/><path d=\"M17.41 7.96l-1.37-1.37c-.4-.4-.92-.59-1.43-.59-.52 0-1.04.2-1.43.59L10.3 9.45l-7.72 7.72c-.78.78-.78 2.05 0 2.83L4 21.41c.39.39.9.59 1.41.59.51 0 1.02-.2 1.41-.59l7.78-7.78 2.81-2.81c.8-.78.8-2.07 0-2.86zM5.41 20L4 18.59l7.72-7.72 1.47 1.35L5.41 20z\"/>\n",
              "  </svg>\n",
              "      </button>\n",
              "      \n",
              "  <style>\n",
              "    .colab-df-container {\n",
              "      display:flex;\n",
              "      flex-wrap:wrap;\n",
              "      gap: 12px;\n",
              "    }\n",
              "\n",
              "    .colab-df-convert {\n",
              "      background-color: #E8F0FE;\n",
              "      border: none;\n",
              "      border-radius: 50%;\n",
              "      cursor: pointer;\n",
              "      display: none;\n",
              "      fill: #1967D2;\n",
              "      height: 32px;\n",
              "      padding: 0 0 0 0;\n",
              "      width: 32px;\n",
              "    }\n",
              "\n",
              "    .colab-df-convert:hover {\n",
              "      background-color: #E2EBFA;\n",
              "      box-shadow: 0px 1px 2px rgba(60, 64, 67, 0.3), 0px 1px 3px 1px rgba(60, 64, 67, 0.15);\n",
              "      fill: #174EA6;\n",
              "    }\n",
              "\n",
              "    [theme=dark] .colab-df-convert {\n",
              "      background-color: #3B4455;\n",
              "      fill: #D2E3FC;\n",
              "    }\n",
              "\n",
              "    [theme=dark] .colab-df-convert:hover {\n",
              "      background-color: #434B5C;\n",
              "      box-shadow: 0px 1px 3px 1px rgba(0, 0, 0, 0.15);\n",
              "      filter: drop-shadow(0px 1px 2px rgba(0, 0, 0, 0.3));\n",
              "      fill: #FFFFFF;\n",
              "    }\n",
              "  </style>\n",
              "\n",
              "      <script>\n",
              "        const buttonEl =\n",
              "          document.querySelector('#df-8d3a8667-a3fc-4313-b84c-aab2afb12289 button.colab-df-convert');\n",
              "        buttonEl.style.display =\n",
              "          google.colab.kernel.accessAllowed ? 'block' : 'none';\n",
              "\n",
              "        async function convertToInteractive(key) {\n",
              "          const element = document.querySelector('#df-8d3a8667-a3fc-4313-b84c-aab2afb12289');\n",
              "          const dataTable =\n",
              "            await google.colab.kernel.invokeFunction('convertToInteractive',\n",
              "                                                     [key], {});\n",
              "          if (!dataTable) return;\n",
              "\n",
              "          const docLinkHtml = 'Like what you see? Visit the ' +\n",
              "            '<a target=\"_blank\" href=https://colab.research.google.com/notebooks/data_table.ipynb>data table notebook</a>'\n",
              "            + ' to learn more about interactive tables.';\n",
              "          element.innerHTML = '';\n",
              "          dataTable['output_type'] = 'display_data';\n",
              "          await google.colab.output.renderOutput(dataTable, element);\n",
              "          const docLink = document.createElement('div');\n",
              "          docLink.innerHTML = docLinkHtml;\n",
              "          element.appendChild(docLink);\n",
              "        }\n",
              "      </script>\n",
              "    </div>\n",
              "  </div>\n",
              "  "
            ]
          },
          "metadata": {},
          "execution_count": 142
        }
      ]
    },
    {
      "cell_type": "code",
      "source": [
        "df_raw.to_csv('df_raw.csv', index=False)"
      ],
      "metadata": {
        "id": "eFpH2d6qENTt"
      },
      "execution_count": null,
      "outputs": []
    },
    {
      "cell_type": "markdown",
      "source": [
        "## RUN FROM THIS PART TO AVOID RE_SCRAPING  "
      ],
      "metadata": {
        "id": "9TRfN2fDEUM9"
      }
    },
    {
      "cell_type": "markdown",
      "source": [
        "###Data set now is public, with the link that I created bellow can be accessed from any application"
      ],
      "metadata": {
        "id": "UgzJlp5bOCaf"
      }
    },
    {
      "cell_type": "code",
      "source": [
        "df= pd.read_csv(\"https://raw.githubusercontent.com/orlandojrps/stream/main/df_raw.csv\")"
      ],
      "metadata": {
        "id": "WQT_uDmXEeaY"
      },
      "execution_count": null,
      "outputs": []
    },
    {
      "cell_type": "markdown",
      "source": [
        "##First look into the DataSet. (Pre)EDA"
      ],
      "metadata": {
        "id": "kfGGbTmpOTVM"
      }
    },
    {
      "cell_type": "code",
      "source": [
        "df.head(100)"
      ],
      "metadata": {
        "colab": {
          "base_uri": "https://localhost:8080/",
          "height": 424
        },
        "id": "BA44NFyHYK0O",
        "outputId": "82bce663-44e1-41c5-b7c2-a41e83659db7"
      },
      "execution_count": null,
      "outputs": [
        {
          "output_type": "execute_result",
          "data": {
            "text/plain": [
              "                                              Address                 Price  \\\n",
              "0              42 Grattan Street, Cork City, Co. Cork              €265,000   \n",
              "1   1 Old Friary Place, Shandon Street, Cork City,...              €275,000   \n",
              "2    179 Kilnap Place, Farranree, Farranree, Co. Cork              €225,000   \n",
              "3     23 Tower Hill, Kilcoolishal, Glanmire, Co. Cork              €580,000   \n",
              "4   14 Crestfield Mews, Riverstown, Glanmire, Co. ...              €290,000   \n",
              "..                                                ...                   ...   \n",
              "95  The Laurels, Laurel Bank, Model Farm Road, Co....  Price on Application   \n",
              "96              3 Millstream Row, Cork City, Co. Cork              €215,000   \n",
              "97       27 Fort Hill, Moneygurney, Douglas, Co. Cork              €240,000   \n",
              "98  12 Sharman Avenue, Crawford Gate, Blackrock, C...              €425,000   \n",
              "99                   71 Cluain Ard, Blarney, Co. Cork              €345,000   \n",
              "\n",
              "     Beds   Baths    Area  \n",
              "0   4 Bed  2 Bath  104 m²  \n",
              "1   2 Bed  2 Bath   70 m²  \n",
              "2   3 Bed  1 Bath   75 m²  \n",
              "3   5 Bed  3 Bath  282 m²  \n",
              "4   3 Bed  1 Bath   76 m²  \n",
              "..    ...     ...     ...  \n",
              "95  6 Bed  5 Bath  319 m²  \n",
              "96  2 Bed  1 Bath   59 m²  \n",
              "97  2 Bed  2 Bath   70 m²  \n",
              "98  4 Bed  3 Bath  119 m²  \n",
              "99  3 Bed  3 Bath  124 m²  \n",
              "\n",
              "[100 rows x 5 columns]"
            ],
            "text/html": [
              "\n",
              "  <div id=\"df-0995bde5-f9bb-41c1-bd07-efc2435c42f5\">\n",
              "    <div class=\"colab-df-container\">\n",
              "      <div>\n",
              "<style scoped>\n",
              "    .dataframe tbody tr th:only-of-type {\n",
              "        vertical-align: middle;\n",
              "    }\n",
              "\n",
              "    .dataframe tbody tr th {\n",
              "        vertical-align: top;\n",
              "    }\n",
              "\n",
              "    .dataframe thead th {\n",
              "        text-align: right;\n",
              "    }\n",
              "</style>\n",
              "<table border=\"1\" class=\"dataframe\">\n",
              "  <thead>\n",
              "    <tr style=\"text-align: right;\">\n",
              "      <th></th>\n",
              "      <th>Address</th>\n",
              "      <th>Price</th>\n",
              "      <th>Beds</th>\n",
              "      <th>Baths</th>\n",
              "      <th>Area</th>\n",
              "    </tr>\n",
              "  </thead>\n",
              "  <tbody>\n",
              "    <tr>\n",
              "      <th>0</th>\n",
              "      <td>42 Grattan Street, Cork City, Co. Cork</td>\n",
              "      <td>€265,000</td>\n",
              "      <td>4 Bed</td>\n",
              "      <td>2 Bath</td>\n",
              "      <td>104 m²</td>\n",
              "    </tr>\n",
              "    <tr>\n",
              "      <th>1</th>\n",
              "      <td>1 Old Friary Place, Shandon Street, Cork City,...</td>\n",
              "      <td>€275,000</td>\n",
              "      <td>2 Bed</td>\n",
              "      <td>2 Bath</td>\n",
              "      <td>70 m²</td>\n",
              "    </tr>\n",
              "    <tr>\n",
              "      <th>2</th>\n",
              "      <td>179 Kilnap Place, Farranree, Farranree, Co. Cork</td>\n",
              "      <td>€225,000</td>\n",
              "      <td>3 Bed</td>\n",
              "      <td>1 Bath</td>\n",
              "      <td>75 m²</td>\n",
              "    </tr>\n",
              "    <tr>\n",
              "      <th>3</th>\n",
              "      <td>23 Tower Hill, Kilcoolishal, Glanmire, Co. Cork</td>\n",
              "      <td>€580,000</td>\n",
              "      <td>5 Bed</td>\n",
              "      <td>3 Bath</td>\n",
              "      <td>282 m²</td>\n",
              "    </tr>\n",
              "    <tr>\n",
              "      <th>4</th>\n",
              "      <td>14 Crestfield Mews, Riverstown, Glanmire, Co. ...</td>\n",
              "      <td>€290,000</td>\n",
              "      <td>3 Bed</td>\n",
              "      <td>1 Bath</td>\n",
              "      <td>76 m²</td>\n",
              "    </tr>\n",
              "    <tr>\n",
              "      <th>...</th>\n",
              "      <td>...</td>\n",
              "      <td>...</td>\n",
              "      <td>...</td>\n",
              "      <td>...</td>\n",
              "      <td>...</td>\n",
              "    </tr>\n",
              "    <tr>\n",
              "      <th>95</th>\n",
              "      <td>The Laurels, Laurel Bank, Model Farm Road, Co....</td>\n",
              "      <td>Price on Application</td>\n",
              "      <td>6 Bed</td>\n",
              "      <td>5 Bath</td>\n",
              "      <td>319 m²</td>\n",
              "    </tr>\n",
              "    <tr>\n",
              "      <th>96</th>\n",
              "      <td>3 Millstream Row, Cork City, Co. Cork</td>\n",
              "      <td>€215,000</td>\n",
              "      <td>2 Bed</td>\n",
              "      <td>1 Bath</td>\n",
              "      <td>59 m²</td>\n",
              "    </tr>\n",
              "    <tr>\n",
              "      <th>97</th>\n",
              "      <td>27 Fort Hill, Moneygurney, Douglas, Co. Cork</td>\n",
              "      <td>€240,000</td>\n",
              "      <td>2 Bed</td>\n",
              "      <td>2 Bath</td>\n",
              "      <td>70 m²</td>\n",
              "    </tr>\n",
              "    <tr>\n",
              "      <th>98</th>\n",
              "      <td>12 Sharman Avenue, Crawford Gate, Blackrock, C...</td>\n",
              "      <td>€425,000</td>\n",
              "      <td>4 Bed</td>\n",
              "      <td>3 Bath</td>\n",
              "      <td>119 m²</td>\n",
              "    </tr>\n",
              "    <tr>\n",
              "      <th>99</th>\n",
              "      <td>71 Cluain Ard, Blarney, Co. Cork</td>\n",
              "      <td>€345,000</td>\n",
              "      <td>3 Bed</td>\n",
              "      <td>3 Bath</td>\n",
              "      <td>124 m²</td>\n",
              "    </tr>\n",
              "  </tbody>\n",
              "</table>\n",
              "<p>100 rows × 5 columns</p>\n",
              "</div>\n",
              "      <button class=\"colab-df-convert\" onclick=\"convertToInteractive('df-0995bde5-f9bb-41c1-bd07-efc2435c42f5')\"\n",
              "              title=\"Convert this dataframe to an interactive table.\"\n",
              "              style=\"display:none;\">\n",
              "        \n",
              "  <svg xmlns=\"http://www.w3.org/2000/svg\" height=\"24px\"viewBox=\"0 0 24 24\"\n",
              "       width=\"24px\">\n",
              "    <path d=\"M0 0h24v24H0V0z\" fill=\"none\"/>\n",
              "    <path d=\"M18.56 5.44l.94 2.06.94-2.06 2.06-.94-2.06-.94-.94-2.06-.94 2.06-2.06.94zm-11 1L8.5 8.5l.94-2.06 2.06-.94-2.06-.94L8.5 2.5l-.94 2.06-2.06.94zm10 10l.94 2.06.94-2.06 2.06-.94-2.06-.94-.94-2.06-.94 2.06-2.06.94z\"/><path d=\"M17.41 7.96l-1.37-1.37c-.4-.4-.92-.59-1.43-.59-.52 0-1.04.2-1.43.59L10.3 9.45l-7.72 7.72c-.78.78-.78 2.05 0 2.83L4 21.41c.39.39.9.59 1.41.59.51 0 1.02-.2 1.41-.59l7.78-7.78 2.81-2.81c.8-.78.8-2.07 0-2.86zM5.41 20L4 18.59l7.72-7.72 1.47 1.35L5.41 20z\"/>\n",
              "  </svg>\n",
              "      </button>\n",
              "      \n",
              "  <style>\n",
              "    .colab-df-container {\n",
              "      display:flex;\n",
              "      flex-wrap:wrap;\n",
              "      gap: 12px;\n",
              "    }\n",
              "\n",
              "    .colab-df-convert {\n",
              "      background-color: #E8F0FE;\n",
              "      border: none;\n",
              "      border-radius: 50%;\n",
              "      cursor: pointer;\n",
              "      display: none;\n",
              "      fill: #1967D2;\n",
              "      height: 32px;\n",
              "      padding: 0 0 0 0;\n",
              "      width: 32px;\n",
              "    }\n",
              "\n",
              "    .colab-df-convert:hover {\n",
              "      background-color: #E2EBFA;\n",
              "      box-shadow: 0px 1px 2px rgba(60, 64, 67, 0.3), 0px 1px 3px 1px rgba(60, 64, 67, 0.15);\n",
              "      fill: #174EA6;\n",
              "    }\n",
              "\n",
              "    [theme=dark] .colab-df-convert {\n",
              "      background-color: #3B4455;\n",
              "      fill: #D2E3FC;\n",
              "    }\n",
              "\n",
              "    [theme=dark] .colab-df-convert:hover {\n",
              "      background-color: #434B5C;\n",
              "      box-shadow: 0px 1px 3px 1px rgba(0, 0, 0, 0.15);\n",
              "      filter: drop-shadow(0px 1px 2px rgba(0, 0, 0, 0.3));\n",
              "      fill: #FFFFFF;\n",
              "    }\n",
              "  </style>\n",
              "\n",
              "      <script>\n",
              "        const buttonEl =\n",
              "          document.querySelector('#df-0995bde5-f9bb-41c1-bd07-efc2435c42f5 button.colab-df-convert');\n",
              "        buttonEl.style.display =\n",
              "          google.colab.kernel.accessAllowed ? 'block' : 'none';\n",
              "\n",
              "        async function convertToInteractive(key) {\n",
              "          const element = document.querySelector('#df-0995bde5-f9bb-41c1-bd07-efc2435c42f5');\n",
              "          const dataTable =\n",
              "            await google.colab.kernel.invokeFunction('convertToInteractive',\n",
              "                                                     [key], {});\n",
              "          if (!dataTable) return;\n",
              "\n",
              "          const docLinkHtml = 'Like what you see? Visit the ' +\n",
              "            '<a target=\"_blank\" href=https://colab.research.google.com/notebooks/data_table.ipynb>data table notebook</a>'\n",
              "            + ' to learn more about interactive tables.';\n",
              "          element.innerHTML = '';\n",
              "          dataTable['output_type'] = 'display_data';\n",
              "          await google.colab.output.renderOutput(dataTable, element);\n",
              "          const docLink = document.createElement('div');\n",
              "          docLink.innerHTML = docLinkHtml;\n",
              "          element.appendChild(docLink);\n",
              "        }\n",
              "      </script>\n",
              "    </div>\n",
              "  </div>\n",
              "  "
            ]
          },
          "metadata": {},
          "execution_count": 146
        }
      ]
    },
    {
      "cell_type": "code",
      "source": [
        "df.info()"
      ],
      "metadata": {
        "colab": {
          "base_uri": "https://localhost:8080/"
        },
        "id": "V1A5PKkoYfrP",
        "outputId": "6ed68a16-14e4-47b3-a00c-2678f06d56fe"
      },
      "execution_count": null,
      "outputs": [
        {
          "output_type": "stream",
          "name": "stdout",
          "text": [
            "<class 'pandas.core.frame.DataFrame'>\n",
            "RangeIndex: 438 entries, 0 to 437\n",
            "Data columns (total 5 columns):\n",
            " #   Column   Non-Null Count  Dtype \n",
            "---  ------   --------------  ----- \n",
            " 0   Address  438 non-null    object\n",
            " 1   Price    438 non-null    object\n",
            " 2   Beds     438 non-null    object\n",
            " 3   Baths    438 non-null    object\n",
            " 4   Area     438 non-null    object\n",
            "dtypes: object(5)\n",
            "memory usage: 17.2+ KB\n"
          ]
        }
      ]
    },
    {
      "cell_type": "code",
      "source": [
        "df.Baths.unique()"
      ],
      "metadata": {
        "colab": {
          "base_uri": "https://localhost:8080/"
        },
        "id": "R3ZBpzMtve3T",
        "outputId": "88d5ab61-1e48-4886-9043-79f17b04f336"
      },
      "execution_count": null,
      "outputs": [
        {
          "output_type": "execute_result",
          "data": {
            "text/plain": [
              "array(['2 Bath', '1 Bath', '3 Bath', '4 Bath', '5 Bath'], dtype=object)"
            ]
          },
          "metadata": {},
          "execution_count": 28
        }
      ]
    },
    {
      "cell_type": "markdown",
      "source": [
        "##Some pre-work in Features"
      ],
      "metadata": {
        "id": "lgWXIOWfOnO-"
      }
    },
    {
      "cell_type": "code",
      "source": [
        "# Discretize Beds\n",
        "df.loc[df.Beds == '1 Bed', 'Beds' ] = 1\n",
        "df.loc[df.Beds == '2 Bed', 'Beds' ] = 2\n",
        "df.loc[df.Beds == '3 Bed', 'Beds' ] = 3\n",
        "df.loc[df.Beds == '4 Bed', 'Beds' ] = 4\n",
        "df.loc[df.Beds == '5 Bed', 'Beds' ] = 5\n",
        "df.loc[df.Beds == '6 Bed', 'Beds' ] = 6\n",
        "df.loc[df.Beds == '7 Bed', 'Beds' ] = 7\n",
        "df.Beds = df.Beds.astype('int')"
      ],
      "metadata": {
        "id": "XN-y4idMuzus"
      },
      "execution_count": null,
      "outputs": []
    },
    {
      "cell_type": "code",
      "source": [
        "# Discretize Baths\n",
        "df.loc[df.Baths == '1 Bath', 'Baths' ] = 1\n",
        "df.loc[df.Baths == '2 Bath', 'Baths' ] = 2\n",
        "df.loc[df.Baths == '3 Bath', 'Baths' ] = 3\n",
        "df.loc[df.Baths == '4 Bath', 'Baths' ] = 4\n",
        "df.loc[df.Baths == '5 Bath', 'Baths' ] = 5\n",
        "df.Baths = df.Baths.astype('int')"
      ],
      "metadata": {
        "id": "7s5fIHFfwHBj"
      },
      "execution_count": null,
      "outputs": []
    },
    {
      "cell_type": "code",
      "source": [
        "# Format Price\n",
        "def convert_price_to_int(df):\n",
        "    df['Price'] = df['Price'].str.replace('€', '') # remove the Euro symbol\n",
        "    df['Price'] = df['Price'].str.replace(',', '') # remove commas\n",
        "    #df['Price'] = df['Price'].astype('int') # convert to integer\n",
        "    return df\n",
        "df_clean = convert_price_to_int(df)\n"
      ],
      "metadata": {
        "id": "mQv3_rHbxilZ"
      },
      "execution_count": null,
      "outputs": []
    },
    {
      "cell_type": "code",
      "source": [
        "df_clean.Price.unique()"
      ],
      "metadata": {
        "colab": {
          "base_uri": "https://localhost:8080/"
        },
        "id": "5mEuPKSLZNpG",
        "outputId": "5bab2b5e-a413-451a-8858-405711de7a78"
      },
      "execution_count": null,
      "outputs": [
        {
          "output_type": "execute_result",
          "data": {
            "text/plain": [
              "array(['265000', '275000', '225000', '580000', '290000', '380000',\n",
              "       '750000', '150000', '745000', '280000', '325000', '480000',\n",
              "       '230000', '350000', '295000', '310000', '495000', '245000',\n",
              "       '159000', '375000', '445000', '595000', '525000', '625000',\n",
              "       'Final Phase Available Now', 'From 470000', '249000', '725000',\n",
              "       '370000', '395000', '440000', '675000', '195000', '250000',\n",
              "       '450000', '425000', '160000', '360000', '175000', '130000',\n",
              "       '485000', '330000', '305000', 'AMV: 120000', '235000', '320000',\n",
              "       '240000', '285000', '239000', '345000', '185000', '895000',\n",
              "       '180000', '385000', 'Price on Application', '215000', '449000',\n",
              "       '75000', '365000', '210000', '165000', '229000', '220000',\n",
              "       '535000', '190000', 'AMV: 160000', 'AMV: 185000', '335000',\n",
              "       '200000', '170000', '455000', '600000', '475000', '270000',\n",
              "       '585000', '279000', '510000', '355000', '540000', '465000',\n",
              "       '420000', 'AMV: 150000', '390000', 'AMV: 175000', '825000',\n",
              "       '179000', '410000', '550000', '197000', '329000', '575000',\n",
              "       '429000', '650000', '340000', '685000', 'New Phase Now Available',\n",
              "       '545000', '520000', '260000', '155000', '145000', '319000',\n",
              "       '830000', '255000', '189000', '100000', '635000', '300000',\n",
              "       '1250000', '199000', '315000', '429500', '975000', '690000',\n",
              "       '415000', '715000', '925000', '695000', '845000', '120000',\n",
              "       '735000', '460000', '615000', '249500', '140000', '259000',\n",
              "       '500000', '1500000', '400000', '995000'], dtype=object)"
            ]
          },
          "metadata": {},
          "execution_count": 32
        }
      ]
    },
    {
      "cell_type": "code",
      "source": [
        "def drop_non_numeric_prices(df):\n",
        "    df['Price'] = pd.to_numeric(df['Price'], errors='coerce') # convert Price column to numeric\n",
        "    df = df.dropna(subset=['Price']) # drop rows where Price is NaN\n",
        "    df = df.astype({'Price': 'int'}) # convert Price to integer\n",
        "    return df\n",
        "df_clean = drop_non_numeric_prices(df_clean)"
      ],
      "metadata": {
        "id": "B8q0lDXRZIA_"
      },
      "execution_count": null,
      "outputs": []
    },
    {
      "cell_type": "code",
      "source": [
        "df_clean.Price.unique()"
      ],
      "metadata": {
        "colab": {
          "base_uri": "https://localhost:8080/"
        },
        "id": "e2lhEBbbZK5b",
        "outputId": "67a731ce-5ee7-4cc2-a500-a7aadc13e568"
      },
      "execution_count": null,
      "outputs": [
        {
          "output_type": "execute_result",
          "data": {
            "text/plain": [
              "array([ 265000,  275000,  225000,  580000,  290000,  380000,  750000,\n",
              "        150000,  745000,  280000,  325000,  480000,  230000,  350000,\n",
              "        295000,  310000,  495000,  245000,  159000,  375000,  445000,\n",
              "        595000,  525000,  625000,  249000,  725000,  370000,  395000,\n",
              "        440000,  675000,  195000,  250000,  450000,  425000,  160000,\n",
              "        360000,  175000,  130000,  485000,  330000,  305000,  235000,\n",
              "        320000,  240000,  285000,  239000,  345000,  185000,  895000,\n",
              "        180000,  385000,  215000,  449000,   75000,  365000,  210000,\n",
              "        165000,  229000,  220000,  535000,  190000,  335000,  200000,\n",
              "        170000,  455000,  600000,  475000,  270000,  585000,  279000,\n",
              "        510000,  355000,  540000,  465000,  420000,  390000,  825000,\n",
              "        179000,  410000,  550000,  197000,  329000,  575000,  429000,\n",
              "        650000,  340000,  685000,  545000,  520000,  260000,  155000,\n",
              "        145000,  319000,  830000,  255000,  189000,  100000,  635000,\n",
              "        300000, 1250000,  199000,  315000,  429500,  975000,  690000,\n",
              "        415000,  715000,  925000,  695000,  845000,  120000,  735000,\n",
              "        460000,  615000,  249500,  140000,  259000,  500000, 1500000,\n",
              "        400000,  995000])"
            ]
          },
          "metadata": {},
          "execution_count": 34
        }
      ]
    },
    {
      "cell_type": "code",
      "source": [
        "df_clean"
      ],
      "metadata": {
        "colab": {
          "base_uri": "https://localhost:8080/",
          "height": 424
        },
        "id": "l9bnelESy6Df",
        "outputId": "ac981fe6-6203-4eeb-8b4a-2958fa75cca0"
      },
      "execution_count": null,
      "outputs": [
        {
          "output_type": "execute_result",
          "data": {
            "text/plain": [
              "                                               Address   Price  Beds  Baths  \\\n",
              "0               42 Grattan Street, Cork City, Co. Cork  265000     4      2   \n",
              "1    1 Old Friary Place, Shandon Street, Cork City,...  275000     2      2   \n",
              "2     179 Kilnap Place, Farranree, Farranree, Co. Cork  225000     3      1   \n",
              "3      23 Tower Hill, Kilcoolishal, Glanmire, Co. Cork  580000     5      3   \n",
              "4    14 Crestfield Mews, Riverstown, Glanmire, Co. ...  290000     3      1   \n",
              "..                                                 ...     ...   ...    ...   \n",
              "428  20 The Garnish, Lancaster Gate, Western Road, ...  400000     2      2   \n",
              "430              1 Dryden Place, Ballinlough, Co. Cork  315000     4      2   \n",
              "431     207 Ashbrook, Victoria Cross, Wilton, Co. Cork  255000     3      1   \n",
              "432  Opera Lane Residences, Cork City, Cork City Ce...  465000     2      2   \n",
              "433              Well Road, Douglas, Douglas, Co. Cork  995000     4      4   \n",
              "\n",
              "       Area  \n",
              "0    104 m²  \n",
              "1     70 m²  \n",
              "2     75 m²  \n",
              "3    282 m²  \n",
              "4     76 m²  \n",
              "..      ...  \n",
              "428   72 m²  \n",
              "430  134 m²  \n",
              "431   56 m²  \n",
              "432   92 m²  \n",
              "433  232 m²  \n",
              "\n",
              "[419 rows x 5 columns]"
            ],
            "text/html": [
              "\n",
              "  <div id=\"df-0a47fa8f-f56f-40d3-9f77-a3368df9bbb4\">\n",
              "    <div class=\"colab-df-container\">\n",
              "      <div>\n",
              "<style scoped>\n",
              "    .dataframe tbody tr th:only-of-type {\n",
              "        vertical-align: middle;\n",
              "    }\n",
              "\n",
              "    .dataframe tbody tr th {\n",
              "        vertical-align: top;\n",
              "    }\n",
              "\n",
              "    .dataframe thead th {\n",
              "        text-align: right;\n",
              "    }\n",
              "</style>\n",
              "<table border=\"1\" class=\"dataframe\">\n",
              "  <thead>\n",
              "    <tr style=\"text-align: right;\">\n",
              "      <th></th>\n",
              "      <th>Address</th>\n",
              "      <th>Price</th>\n",
              "      <th>Beds</th>\n",
              "      <th>Baths</th>\n",
              "      <th>Area</th>\n",
              "    </tr>\n",
              "  </thead>\n",
              "  <tbody>\n",
              "    <tr>\n",
              "      <th>0</th>\n",
              "      <td>42 Grattan Street, Cork City, Co. Cork</td>\n",
              "      <td>265000</td>\n",
              "      <td>4</td>\n",
              "      <td>2</td>\n",
              "      <td>104 m²</td>\n",
              "    </tr>\n",
              "    <tr>\n",
              "      <th>1</th>\n",
              "      <td>1 Old Friary Place, Shandon Street, Cork City,...</td>\n",
              "      <td>275000</td>\n",
              "      <td>2</td>\n",
              "      <td>2</td>\n",
              "      <td>70 m²</td>\n",
              "    </tr>\n",
              "    <tr>\n",
              "      <th>2</th>\n",
              "      <td>179 Kilnap Place, Farranree, Farranree, Co. Cork</td>\n",
              "      <td>225000</td>\n",
              "      <td>3</td>\n",
              "      <td>1</td>\n",
              "      <td>75 m²</td>\n",
              "    </tr>\n",
              "    <tr>\n",
              "      <th>3</th>\n",
              "      <td>23 Tower Hill, Kilcoolishal, Glanmire, Co. Cork</td>\n",
              "      <td>580000</td>\n",
              "      <td>5</td>\n",
              "      <td>3</td>\n",
              "      <td>282 m²</td>\n",
              "    </tr>\n",
              "    <tr>\n",
              "      <th>4</th>\n",
              "      <td>14 Crestfield Mews, Riverstown, Glanmire, Co. ...</td>\n",
              "      <td>290000</td>\n",
              "      <td>3</td>\n",
              "      <td>1</td>\n",
              "      <td>76 m²</td>\n",
              "    </tr>\n",
              "    <tr>\n",
              "      <th>...</th>\n",
              "      <td>...</td>\n",
              "      <td>...</td>\n",
              "      <td>...</td>\n",
              "      <td>...</td>\n",
              "      <td>...</td>\n",
              "    </tr>\n",
              "    <tr>\n",
              "      <th>428</th>\n",
              "      <td>20 The Garnish, Lancaster Gate, Western Road, ...</td>\n",
              "      <td>400000</td>\n",
              "      <td>2</td>\n",
              "      <td>2</td>\n",
              "      <td>72 m²</td>\n",
              "    </tr>\n",
              "    <tr>\n",
              "      <th>430</th>\n",
              "      <td>1 Dryden Place, Ballinlough, Co. Cork</td>\n",
              "      <td>315000</td>\n",
              "      <td>4</td>\n",
              "      <td>2</td>\n",
              "      <td>134 m²</td>\n",
              "    </tr>\n",
              "    <tr>\n",
              "      <th>431</th>\n",
              "      <td>207 Ashbrook, Victoria Cross, Wilton, Co. Cork</td>\n",
              "      <td>255000</td>\n",
              "      <td>3</td>\n",
              "      <td>1</td>\n",
              "      <td>56 m²</td>\n",
              "    </tr>\n",
              "    <tr>\n",
              "      <th>432</th>\n",
              "      <td>Opera Lane Residences, Cork City, Cork City Ce...</td>\n",
              "      <td>465000</td>\n",
              "      <td>2</td>\n",
              "      <td>2</td>\n",
              "      <td>92 m²</td>\n",
              "    </tr>\n",
              "    <tr>\n",
              "      <th>433</th>\n",
              "      <td>Well Road, Douglas, Douglas, Co. Cork</td>\n",
              "      <td>995000</td>\n",
              "      <td>4</td>\n",
              "      <td>4</td>\n",
              "      <td>232 m²</td>\n",
              "    </tr>\n",
              "  </tbody>\n",
              "</table>\n",
              "<p>419 rows × 5 columns</p>\n",
              "</div>\n",
              "      <button class=\"colab-df-convert\" onclick=\"convertToInteractive('df-0a47fa8f-f56f-40d3-9f77-a3368df9bbb4')\"\n",
              "              title=\"Convert this dataframe to an interactive table.\"\n",
              "              style=\"display:none;\">\n",
              "        \n",
              "  <svg xmlns=\"http://www.w3.org/2000/svg\" height=\"24px\"viewBox=\"0 0 24 24\"\n",
              "       width=\"24px\">\n",
              "    <path d=\"M0 0h24v24H0V0z\" fill=\"none\"/>\n",
              "    <path d=\"M18.56 5.44l.94 2.06.94-2.06 2.06-.94-2.06-.94-.94-2.06-.94 2.06-2.06.94zm-11 1L8.5 8.5l.94-2.06 2.06-.94-2.06-.94L8.5 2.5l-.94 2.06-2.06.94zm10 10l.94 2.06.94-2.06 2.06-.94-2.06-.94-.94-2.06-.94 2.06-2.06.94z\"/><path d=\"M17.41 7.96l-1.37-1.37c-.4-.4-.92-.59-1.43-.59-.52 0-1.04.2-1.43.59L10.3 9.45l-7.72 7.72c-.78.78-.78 2.05 0 2.83L4 21.41c.39.39.9.59 1.41.59.51 0 1.02-.2 1.41-.59l7.78-7.78 2.81-2.81c.8-.78.8-2.07 0-2.86zM5.41 20L4 18.59l7.72-7.72 1.47 1.35L5.41 20z\"/>\n",
              "  </svg>\n",
              "      </button>\n",
              "      \n",
              "  <style>\n",
              "    .colab-df-container {\n",
              "      display:flex;\n",
              "      flex-wrap:wrap;\n",
              "      gap: 12px;\n",
              "    }\n",
              "\n",
              "    .colab-df-convert {\n",
              "      background-color: #E8F0FE;\n",
              "      border: none;\n",
              "      border-radius: 50%;\n",
              "      cursor: pointer;\n",
              "      display: none;\n",
              "      fill: #1967D2;\n",
              "      height: 32px;\n",
              "      padding: 0 0 0 0;\n",
              "      width: 32px;\n",
              "    }\n",
              "\n",
              "    .colab-df-convert:hover {\n",
              "      background-color: #E2EBFA;\n",
              "      box-shadow: 0px 1px 2px rgba(60, 64, 67, 0.3), 0px 1px 3px 1px rgba(60, 64, 67, 0.15);\n",
              "      fill: #174EA6;\n",
              "    }\n",
              "\n",
              "    [theme=dark] .colab-df-convert {\n",
              "      background-color: #3B4455;\n",
              "      fill: #D2E3FC;\n",
              "    }\n",
              "\n",
              "    [theme=dark] .colab-df-convert:hover {\n",
              "      background-color: #434B5C;\n",
              "      box-shadow: 0px 1px 3px 1px rgba(0, 0, 0, 0.15);\n",
              "      filter: drop-shadow(0px 1px 2px rgba(0, 0, 0, 0.3));\n",
              "      fill: #FFFFFF;\n",
              "    }\n",
              "  </style>\n",
              "\n",
              "      <script>\n",
              "        const buttonEl =\n",
              "          document.querySelector('#df-0a47fa8f-f56f-40d3-9f77-a3368df9bbb4 button.colab-df-convert');\n",
              "        buttonEl.style.display =\n",
              "          google.colab.kernel.accessAllowed ? 'block' : 'none';\n",
              "\n",
              "        async function convertToInteractive(key) {\n",
              "          const element = document.querySelector('#df-0a47fa8f-f56f-40d3-9f77-a3368df9bbb4');\n",
              "          const dataTable =\n",
              "            await google.colab.kernel.invokeFunction('convertToInteractive',\n",
              "                                                     [key], {});\n",
              "          if (!dataTable) return;\n",
              "\n",
              "          const docLinkHtml = 'Like what you see? Visit the ' +\n",
              "            '<a target=\"_blank\" href=https://colab.research.google.com/notebooks/data_table.ipynb>data table notebook</a>'\n",
              "            + ' to learn more about interactive tables.';\n",
              "          element.innerHTML = '';\n",
              "          dataTable['output_type'] = 'display_data';\n",
              "          await google.colab.output.renderOutput(dataTable, element);\n",
              "          const docLink = document.createElement('div');\n",
              "          docLink.innerHTML = docLinkHtml;\n",
              "          element.appendChild(docLink);\n",
              "        }\n",
              "      </script>\n",
              "    </div>\n",
              "  </div>\n",
              "  "
            ]
          },
          "metadata": {},
          "execution_count": 35
        }
      ]
    },
    {
      "cell_type": "code",
      "source": [
        "df_clean.info()"
      ],
      "metadata": {
        "colab": {
          "base_uri": "https://localhost:8080/"
        },
        "id": "orHOLra-zJha",
        "outputId": "7d3f3055-30ee-4c3f-92b1-4e6bf1fa3107"
      },
      "execution_count": null,
      "outputs": [
        {
          "output_type": "stream",
          "name": "stdout",
          "text": [
            "<class 'pandas.core.frame.DataFrame'>\n",
            "Int64Index: 432 entries, 0 to 446\n",
            "Data columns (total 5 columns):\n",
            " #   Column   Non-Null Count  Dtype \n",
            "---  ------   --------------  ----- \n",
            " 0   Address  432 non-null    object\n",
            " 1   Price    432 non-null    int64 \n",
            " 2   Beds     432 non-null    int64 \n",
            " 3   Baths    432 non-null    int64 \n",
            " 4   Area     432 non-null    object\n",
            "dtypes: int64(3), object(2)\n",
            "memory usage: 20.2+ KB\n"
          ]
        }
      ]
    },
    {
      "cell_type": "markdown",
      "source": [
        "##The area is one of the most important features, so we are converting to numeric"
      ],
      "metadata": {
        "id": "QlDCscgvOyu9"
      }
    },
    {
      "cell_type": "code",
      "source": [
        "def convert_area_to_int(df):\n",
        "    df['Area'] = df['Area'].str.replace(' m²', '') # remove the 'm²' suffix\n",
        "    df['Area'] = df['Area'].astype(int) # convert to integer\n",
        "    return df\n",
        "df_clean = convert_area_to_int(df_clean)"
      ],
      "metadata": {
        "id": "7J_oDfB6zEjP"
      },
      "execution_count": null,
      "outputs": []
    },
    {
      "cell_type": "code",
      "source": [
        "df_clean"
      ],
      "metadata": {
        "colab": {
          "base_uri": "https://localhost:8080/",
          "height": 424
        },
        "id": "vDCMlWWezkr0",
        "outputId": "da8ae6be-f036-47d6-d29c-2a97bb652c14"
      },
      "execution_count": null,
      "outputs": [
        {
          "output_type": "execute_result",
          "data": {
            "text/plain": [
              "                                               Address   Price  Beds  Baths  \\\n",
              "0               42 Grattan Street, Cork City, Co. Cork  265000     4      2   \n",
              "1    1 Old Friary Place, Shandon Street, Cork City,...  275000     2      2   \n",
              "2     179 Kilnap Place, Farranree, Farranree, Co. Cork  225000     3      1   \n",
              "3      23 Tower Hill, Kilcoolishal, Glanmire, Co. Cork  580000     5      3   \n",
              "4    14 Crestfield Mews, Riverstown, Glanmire, Co. ...  290000     3      1   \n",
              "..                                                 ...     ...   ...    ...   \n",
              "428  20 The Garnish, Lancaster Gate, Western Road, ...  400000     2      2   \n",
              "430              1 Dryden Place, Ballinlough, Co. Cork  315000     4      2   \n",
              "431     207 Ashbrook, Victoria Cross, Wilton, Co. Cork  255000     3      1   \n",
              "432  Opera Lane Residences, Cork City, Cork City Ce...  465000     2      2   \n",
              "433              Well Road, Douglas, Douglas, Co. Cork  995000     4      4   \n",
              "\n",
              "     Area  \n",
              "0     104  \n",
              "1      70  \n",
              "2      75  \n",
              "3     282  \n",
              "4      76  \n",
              "..    ...  \n",
              "428    72  \n",
              "430   134  \n",
              "431    56  \n",
              "432    92  \n",
              "433   232  \n",
              "\n",
              "[419 rows x 5 columns]"
            ],
            "text/html": [
              "\n",
              "  <div id=\"df-fadaa1fc-af69-4b73-8833-d6ce275fa7e6\">\n",
              "    <div class=\"colab-df-container\">\n",
              "      <div>\n",
              "<style scoped>\n",
              "    .dataframe tbody tr th:only-of-type {\n",
              "        vertical-align: middle;\n",
              "    }\n",
              "\n",
              "    .dataframe tbody tr th {\n",
              "        vertical-align: top;\n",
              "    }\n",
              "\n",
              "    .dataframe thead th {\n",
              "        text-align: right;\n",
              "    }\n",
              "</style>\n",
              "<table border=\"1\" class=\"dataframe\">\n",
              "  <thead>\n",
              "    <tr style=\"text-align: right;\">\n",
              "      <th></th>\n",
              "      <th>Address</th>\n",
              "      <th>Price</th>\n",
              "      <th>Beds</th>\n",
              "      <th>Baths</th>\n",
              "      <th>Area</th>\n",
              "    </tr>\n",
              "  </thead>\n",
              "  <tbody>\n",
              "    <tr>\n",
              "      <th>0</th>\n",
              "      <td>42 Grattan Street, Cork City, Co. Cork</td>\n",
              "      <td>265000</td>\n",
              "      <td>4</td>\n",
              "      <td>2</td>\n",
              "      <td>104</td>\n",
              "    </tr>\n",
              "    <tr>\n",
              "      <th>1</th>\n",
              "      <td>1 Old Friary Place, Shandon Street, Cork City,...</td>\n",
              "      <td>275000</td>\n",
              "      <td>2</td>\n",
              "      <td>2</td>\n",
              "      <td>70</td>\n",
              "    </tr>\n",
              "    <tr>\n",
              "      <th>2</th>\n",
              "      <td>179 Kilnap Place, Farranree, Farranree, Co. Cork</td>\n",
              "      <td>225000</td>\n",
              "      <td>3</td>\n",
              "      <td>1</td>\n",
              "      <td>75</td>\n",
              "    </tr>\n",
              "    <tr>\n",
              "      <th>3</th>\n",
              "      <td>23 Tower Hill, Kilcoolishal, Glanmire, Co. Cork</td>\n",
              "      <td>580000</td>\n",
              "      <td>5</td>\n",
              "      <td>3</td>\n",
              "      <td>282</td>\n",
              "    </tr>\n",
              "    <tr>\n",
              "      <th>4</th>\n",
              "      <td>14 Crestfield Mews, Riverstown, Glanmire, Co. ...</td>\n",
              "      <td>290000</td>\n",
              "      <td>3</td>\n",
              "      <td>1</td>\n",
              "      <td>76</td>\n",
              "    </tr>\n",
              "    <tr>\n",
              "      <th>...</th>\n",
              "      <td>...</td>\n",
              "      <td>...</td>\n",
              "      <td>...</td>\n",
              "      <td>...</td>\n",
              "      <td>...</td>\n",
              "    </tr>\n",
              "    <tr>\n",
              "      <th>428</th>\n",
              "      <td>20 The Garnish, Lancaster Gate, Western Road, ...</td>\n",
              "      <td>400000</td>\n",
              "      <td>2</td>\n",
              "      <td>2</td>\n",
              "      <td>72</td>\n",
              "    </tr>\n",
              "    <tr>\n",
              "      <th>430</th>\n",
              "      <td>1 Dryden Place, Ballinlough, Co. Cork</td>\n",
              "      <td>315000</td>\n",
              "      <td>4</td>\n",
              "      <td>2</td>\n",
              "      <td>134</td>\n",
              "    </tr>\n",
              "    <tr>\n",
              "      <th>431</th>\n",
              "      <td>207 Ashbrook, Victoria Cross, Wilton, Co. Cork</td>\n",
              "      <td>255000</td>\n",
              "      <td>3</td>\n",
              "      <td>1</td>\n",
              "      <td>56</td>\n",
              "    </tr>\n",
              "    <tr>\n",
              "      <th>432</th>\n",
              "      <td>Opera Lane Residences, Cork City, Cork City Ce...</td>\n",
              "      <td>465000</td>\n",
              "      <td>2</td>\n",
              "      <td>2</td>\n",
              "      <td>92</td>\n",
              "    </tr>\n",
              "    <tr>\n",
              "      <th>433</th>\n",
              "      <td>Well Road, Douglas, Douglas, Co. Cork</td>\n",
              "      <td>995000</td>\n",
              "      <td>4</td>\n",
              "      <td>4</td>\n",
              "      <td>232</td>\n",
              "    </tr>\n",
              "  </tbody>\n",
              "</table>\n",
              "<p>419 rows × 5 columns</p>\n",
              "</div>\n",
              "      <button class=\"colab-df-convert\" onclick=\"convertToInteractive('df-fadaa1fc-af69-4b73-8833-d6ce275fa7e6')\"\n",
              "              title=\"Convert this dataframe to an interactive table.\"\n",
              "              style=\"display:none;\">\n",
              "        \n",
              "  <svg xmlns=\"http://www.w3.org/2000/svg\" height=\"24px\"viewBox=\"0 0 24 24\"\n",
              "       width=\"24px\">\n",
              "    <path d=\"M0 0h24v24H0V0z\" fill=\"none\"/>\n",
              "    <path d=\"M18.56 5.44l.94 2.06.94-2.06 2.06-.94-2.06-.94-.94-2.06-.94 2.06-2.06.94zm-11 1L8.5 8.5l.94-2.06 2.06-.94-2.06-.94L8.5 2.5l-.94 2.06-2.06.94zm10 10l.94 2.06.94-2.06 2.06-.94-2.06-.94-.94-2.06-.94 2.06-2.06.94z\"/><path d=\"M17.41 7.96l-1.37-1.37c-.4-.4-.92-.59-1.43-.59-.52 0-1.04.2-1.43.59L10.3 9.45l-7.72 7.72c-.78.78-.78 2.05 0 2.83L4 21.41c.39.39.9.59 1.41.59.51 0 1.02-.2 1.41-.59l7.78-7.78 2.81-2.81c.8-.78.8-2.07 0-2.86zM5.41 20L4 18.59l7.72-7.72 1.47 1.35L5.41 20z\"/>\n",
              "  </svg>\n",
              "      </button>\n",
              "      \n",
              "  <style>\n",
              "    .colab-df-container {\n",
              "      display:flex;\n",
              "      flex-wrap:wrap;\n",
              "      gap: 12px;\n",
              "    }\n",
              "\n",
              "    .colab-df-convert {\n",
              "      background-color: #E8F0FE;\n",
              "      border: none;\n",
              "      border-radius: 50%;\n",
              "      cursor: pointer;\n",
              "      display: none;\n",
              "      fill: #1967D2;\n",
              "      height: 32px;\n",
              "      padding: 0 0 0 0;\n",
              "      width: 32px;\n",
              "    }\n",
              "\n",
              "    .colab-df-convert:hover {\n",
              "      background-color: #E2EBFA;\n",
              "      box-shadow: 0px 1px 2px rgba(60, 64, 67, 0.3), 0px 1px 3px 1px rgba(60, 64, 67, 0.15);\n",
              "      fill: #174EA6;\n",
              "    }\n",
              "\n",
              "    [theme=dark] .colab-df-convert {\n",
              "      background-color: #3B4455;\n",
              "      fill: #D2E3FC;\n",
              "    }\n",
              "\n",
              "    [theme=dark] .colab-df-convert:hover {\n",
              "      background-color: #434B5C;\n",
              "      box-shadow: 0px 1px 3px 1px rgba(0, 0, 0, 0.15);\n",
              "      filter: drop-shadow(0px 1px 2px rgba(0, 0, 0, 0.3));\n",
              "      fill: #FFFFFF;\n",
              "    }\n",
              "  </style>\n",
              "\n",
              "      <script>\n",
              "        const buttonEl =\n",
              "          document.querySelector('#df-fadaa1fc-af69-4b73-8833-d6ce275fa7e6 button.colab-df-convert');\n",
              "        buttonEl.style.display =\n",
              "          google.colab.kernel.accessAllowed ? 'block' : 'none';\n",
              "\n",
              "        async function convertToInteractive(key) {\n",
              "          const element = document.querySelector('#df-fadaa1fc-af69-4b73-8833-d6ce275fa7e6');\n",
              "          const dataTable =\n",
              "            await google.colab.kernel.invokeFunction('convertToInteractive',\n",
              "                                                     [key], {});\n",
              "          if (!dataTable) return;\n",
              "\n",
              "          const docLinkHtml = 'Like what you see? Visit the ' +\n",
              "            '<a target=\"_blank\" href=https://colab.research.google.com/notebooks/data_table.ipynb>data table notebook</a>'\n",
              "            + ' to learn more about interactive tables.';\n",
              "          element.innerHTML = '';\n",
              "          dataTable['output_type'] = 'display_data';\n",
              "          await google.colab.output.renderOutput(dataTable, element);\n",
              "          const docLink = document.createElement('div');\n",
              "          docLink.innerHTML = docLinkHtml;\n",
              "          element.appendChild(docLink);\n",
              "        }\n",
              "      </script>\n",
              "    </div>\n",
              "  </div>\n",
              "  "
            ]
          },
          "metadata": {},
          "execution_count": 40
        }
      ]
    },
    {
      "cell_type": "code",
      "source": [
        "df_clean.to_csv('df_clean.csv', index=False)"
      ],
      "metadata": {
        "id": "GKKQdtmro-oO"
      },
      "execution_count": null,
      "outputs": []
    },
    {
      "cell_type": "code",
      "source": [
        "df_clean.info()"
      ],
      "metadata": {
        "id": "Aqqdynl-zlyw",
        "colab": {
          "base_uri": "https://localhost:8080/"
        },
        "outputId": "dd61e404-80b1-43ad-eec0-21c4d331d07b"
      },
      "execution_count": null,
      "outputs": [
        {
          "output_type": "stream",
          "name": "stdout",
          "text": [
            "<class 'pandas.core.frame.DataFrame'>\n",
            "Int64Index: 419 entries, 0 to 433\n",
            "Data columns (total 5 columns):\n",
            " #   Column   Non-Null Count  Dtype \n",
            "---  ------   --------------  ----- \n",
            " 0   Address  419 non-null    object\n",
            " 1   Price    419 non-null    int64 \n",
            " 2   Beds     419 non-null    int64 \n",
            " 3   Baths    419 non-null    int64 \n",
            " 4   Area     419 non-null    int64 \n",
            "dtypes: int64(4), object(1)\n",
            "memory usage: 19.6+ KB\n"
          ]
        }
      ]
    },
    {
      "cell_type": "markdown",
      "source": [
        "## Now with the dataset clean and transformed lets convert the feature Adress into some usefull data, to do it so lets use the function geocode from GEOPANDAS LIB. Ref.:https://geopandas.org/en/stable/"
      ],
      "metadata": {
        "id": "DIKJVj-ba2in"
      }
    },
    {
      "cell_type": "code",
      "source": [
        "# Geocode addresses with arcgis as the 'your user_agent application'\n",
        "geocoded_try = geocode(df_clean[\"Address\"], provider=\"arcgis\", timeout=60)\n"
      ],
      "metadata": {
        "id": "p_SmTXw4FWKi"
      },
      "execution_count": null,
      "outputs": []
    },
    {
      "cell_type": "markdown",
      "source": [
        "##Creating a BKP for the raw data"
      ],
      "metadata": {
        "id": "WnA8S7qEQCUR"
      }
    },
    {
      "cell_type": "code",
      "source": [
        "geocoded_try.to_csv('https://raw.githubusercontent.com/orlandojrps/stream/main/geocoded_try.csv', index=False)"
      ],
      "metadata": {
        "id": "N3wgApsbLcZk"
      },
      "execution_count": null,
      "outputs": []
    },
    {
      "cell_type": "code",
      "source": [
        "df_locations = geocoded_try"
      ],
      "metadata": {
        "id": "lQW1C_huHBeS"
      },
      "execution_count": null,
      "outputs": []
    },
    {
      "cell_type": "code",
      "source": [
        "df_locations"
      ],
      "metadata": {
        "colab": {
          "base_uri": "https://localhost:8080/",
          "height": 424
        },
        "id": "9GzVZPskb-LZ",
        "outputId": "8217eae8-56f0-4825-8df5-ce879b84115d"
      },
      "execution_count": null,
      "outputs": [
        {
          "output_type": "execute_result",
          "data": {
            "text/plain": [
              "                      geometry                               address\n",
              "0    POINT (-8.48012 51.89882)               42 Grattan Street, Cork\n",
              "1    POINT (-8.47808 51.90248)              1 Old Friary Place, Cork\n",
              "2    POINT (-8.48010 51.91443)     179 Kilnap Place, Farranree, Cork\n",
              "3    POINT (-8.39931 51.92694)                        Glanmire, Cork\n",
              "4    POINT (-8.39284 51.93510)  14 Crestfield Mews, Riverstown, Cork\n",
              "..                         ...                                   ...\n",
              "428  POINT (-8.48345 51.89589)  Lancaster Gate, 1 Western Road, Cork\n",
              "430  POINT (-8.45560 51.89018)                  1 Dryden Place, Cork\n",
              "431  POINT (-8.50651 51.89102)                  Victoria Cross, Cork\n",
              "432  POINT (-8.47257 51.89900)                      Opera Lane, Cork\n",
              "433  POINT (-8.43765 51.87868)           Douglas Road, Douglas, Cork\n",
              "\n",
              "[419 rows x 2 columns]"
            ],
            "text/html": [
              "\n",
              "  <div id=\"df-1aba45c5-c5ea-479c-a23b-d722d105e707\">\n",
              "    <div class=\"colab-df-container\">\n",
              "      <div>\n",
              "<style scoped>\n",
              "    .dataframe tbody tr th:only-of-type {\n",
              "        vertical-align: middle;\n",
              "    }\n",
              "\n",
              "    .dataframe tbody tr th {\n",
              "        vertical-align: top;\n",
              "    }\n",
              "\n",
              "    .dataframe thead th {\n",
              "        text-align: right;\n",
              "    }\n",
              "</style>\n",
              "<table border=\"1\" class=\"dataframe\">\n",
              "  <thead>\n",
              "    <tr style=\"text-align: right;\">\n",
              "      <th></th>\n",
              "      <th>geometry</th>\n",
              "      <th>address</th>\n",
              "    </tr>\n",
              "  </thead>\n",
              "  <tbody>\n",
              "    <tr>\n",
              "      <th>0</th>\n",
              "      <td>POINT (-8.48012 51.89882)</td>\n",
              "      <td>42 Grattan Street, Cork</td>\n",
              "    </tr>\n",
              "    <tr>\n",
              "      <th>1</th>\n",
              "      <td>POINT (-8.47808 51.90248)</td>\n",
              "      <td>1 Old Friary Place, Cork</td>\n",
              "    </tr>\n",
              "    <tr>\n",
              "      <th>2</th>\n",
              "      <td>POINT (-8.48010 51.91443)</td>\n",
              "      <td>179 Kilnap Place, Farranree, Cork</td>\n",
              "    </tr>\n",
              "    <tr>\n",
              "      <th>3</th>\n",
              "      <td>POINT (-8.39931 51.92694)</td>\n",
              "      <td>Glanmire, Cork</td>\n",
              "    </tr>\n",
              "    <tr>\n",
              "      <th>4</th>\n",
              "      <td>POINT (-8.39284 51.93510)</td>\n",
              "      <td>14 Crestfield Mews, Riverstown, Cork</td>\n",
              "    </tr>\n",
              "    <tr>\n",
              "      <th>...</th>\n",
              "      <td>...</td>\n",
              "      <td>...</td>\n",
              "    </tr>\n",
              "    <tr>\n",
              "      <th>428</th>\n",
              "      <td>POINT (-8.48345 51.89589)</td>\n",
              "      <td>Lancaster Gate, 1 Western Road, Cork</td>\n",
              "    </tr>\n",
              "    <tr>\n",
              "      <th>430</th>\n",
              "      <td>POINT (-8.45560 51.89018)</td>\n",
              "      <td>1 Dryden Place, Cork</td>\n",
              "    </tr>\n",
              "    <tr>\n",
              "      <th>431</th>\n",
              "      <td>POINT (-8.50651 51.89102)</td>\n",
              "      <td>Victoria Cross, Cork</td>\n",
              "    </tr>\n",
              "    <tr>\n",
              "      <th>432</th>\n",
              "      <td>POINT (-8.47257 51.89900)</td>\n",
              "      <td>Opera Lane, Cork</td>\n",
              "    </tr>\n",
              "    <tr>\n",
              "      <th>433</th>\n",
              "      <td>POINT (-8.43765 51.87868)</td>\n",
              "      <td>Douglas Road, Douglas, Cork</td>\n",
              "    </tr>\n",
              "  </tbody>\n",
              "</table>\n",
              "<p>419 rows × 2 columns</p>\n",
              "</div>\n",
              "      <button class=\"colab-df-convert\" onclick=\"convertToInteractive('df-1aba45c5-c5ea-479c-a23b-d722d105e707')\"\n",
              "              title=\"Convert this dataframe to an interactive table.\"\n",
              "              style=\"display:none;\">\n",
              "        \n",
              "  <svg xmlns=\"http://www.w3.org/2000/svg\" height=\"24px\"viewBox=\"0 0 24 24\"\n",
              "       width=\"24px\">\n",
              "    <path d=\"M0 0h24v24H0V0z\" fill=\"none\"/>\n",
              "    <path d=\"M18.56 5.44l.94 2.06.94-2.06 2.06-.94-2.06-.94-.94-2.06-.94 2.06-2.06.94zm-11 1L8.5 8.5l.94-2.06 2.06-.94-2.06-.94L8.5 2.5l-.94 2.06-2.06.94zm10 10l.94 2.06.94-2.06 2.06-.94-2.06-.94-.94-2.06-.94 2.06-2.06.94z\"/><path d=\"M17.41 7.96l-1.37-1.37c-.4-.4-.92-.59-1.43-.59-.52 0-1.04.2-1.43.59L10.3 9.45l-7.72 7.72c-.78.78-.78 2.05 0 2.83L4 21.41c.39.39.9.59 1.41.59.51 0 1.02-.2 1.41-.59l7.78-7.78 2.81-2.81c.8-.78.8-2.07 0-2.86zM5.41 20L4 18.59l7.72-7.72 1.47 1.35L5.41 20z\"/>\n",
              "  </svg>\n",
              "      </button>\n",
              "      \n",
              "  <style>\n",
              "    .colab-df-container {\n",
              "      display:flex;\n",
              "      flex-wrap:wrap;\n",
              "      gap: 12px;\n",
              "    }\n",
              "\n",
              "    .colab-df-convert {\n",
              "      background-color: #E8F0FE;\n",
              "      border: none;\n",
              "      border-radius: 50%;\n",
              "      cursor: pointer;\n",
              "      display: none;\n",
              "      fill: #1967D2;\n",
              "      height: 32px;\n",
              "      padding: 0 0 0 0;\n",
              "      width: 32px;\n",
              "    }\n",
              "\n",
              "    .colab-df-convert:hover {\n",
              "      background-color: #E2EBFA;\n",
              "      box-shadow: 0px 1px 2px rgba(60, 64, 67, 0.3), 0px 1px 3px 1px rgba(60, 64, 67, 0.15);\n",
              "      fill: #174EA6;\n",
              "    }\n",
              "\n",
              "    [theme=dark] .colab-df-convert {\n",
              "      background-color: #3B4455;\n",
              "      fill: #D2E3FC;\n",
              "    }\n",
              "\n",
              "    [theme=dark] .colab-df-convert:hover {\n",
              "      background-color: #434B5C;\n",
              "      box-shadow: 0px 1px 3px 1px rgba(0, 0, 0, 0.15);\n",
              "      filter: drop-shadow(0px 1px 2px rgba(0, 0, 0, 0.3));\n",
              "      fill: #FFFFFF;\n",
              "    }\n",
              "  </style>\n",
              "\n",
              "      <script>\n",
              "        const buttonEl =\n",
              "          document.querySelector('#df-1aba45c5-c5ea-479c-a23b-d722d105e707 button.colab-df-convert');\n",
              "        buttonEl.style.display =\n",
              "          google.colab.kernel.accessAllowed ? 'block' : 'none';\n",
              "\n",
              "        async function convertToInteractive(key) {\n",
              "          const element = document.querySelector('#df-1aba45c5-c5ea-479c-a23b-d722d105e707');\n",
              "          const dataTable =\n",
              "            await google.colab.kernel.invokeFunction('convertToInteractive',\n",
              "                                                     [key], {});\n",
              "          if (!dataTable) return;\n",
              "\n",
              "          const docLinkHtml = 'Like what you see? Visit the ' +\n",
              "            '<a target=\"_blank\" href=https://colab.research.google.com/notebooks/data_table.ipynb>data table notebook</a>'\n",
              "            + ' to learn more about interactive tables.';\n",
              "          element.innerHTML = '';\n",
              "          dataTable['output_type'] = 'display_data';\n",
              "          await google.colab.output.renderOutput(dataTable, element);\n",
              "          const docLink = document.createElement('div');\n",
              "          docLink.innerHTML = docLinkHtml;\n",
              "          element.appendChild(docLink);\n",
              "        }\n",
              "      </script>\n",
              "    </div>\n",
              "  </div>\n",
              "  "
            ]
          },
          "metadata": {},
          "execution_count": 46
        }
      ]
    },
    {
      "cell_type": "markdown",
      "source": [
        "##BKP of the dataset with coordenates"
      ],
      "metadata": {
        "id": "bSwEBF0pQcoB"
      }
    },
    {
      "cell_type": "code",
      "source": [
        "df_locations.to_csv('https://raw.githubusercontent.com/orlandojrps/stream/main/df_locations.csv', index=False)"
      ],
      "metadata": {
        "id": "54yHvgyQHINO"
      },
      "execution_count": null,
      "outputs": []
    },
    {
      "cell_type": "markdown",
      "source": [
        "Function to convert Addresses into Geocoordenates"
      ],
      "metadata": {
        "id": "DIEgYYJFQoQ4"
      }
    },
    {
      "cell_type": "code",
      "source": [
        "# Function to convert the addresses to Geolocations with Latitude and Longitude\n",
        "\n",
        "def geocode_addresses(addresses):\n",
        "    geolocator = ArcGIS(timeout=10) # create a geolocator object with a timeout of 10 seconds\n",
        "    lats = []\n",
        "    longs = []\n",
        "\n",
        "    # loop over addresses, geocode each one, and extract the latitude and longitude\n",
        "    for address in addresses:\n",
        "        try:\n",
        "            location = geolocator.geocode(address)\n",
        "            if location:\n",
        "                lats.append(location.latitude)\n",
        "                longs.append(location.longitude)\n",
        "            else:\n",
        "                lats.append(0)\n",
        "                longs.append(0)\n",
        "            time.sleep(1) # add a 1-second delay between requests\n",
        "        except (GeocoderTimedOut, SSLError) as error:\n",
        "            print(f\"Geocoding request for {address} timed out or failed: {error}\")\n",
        "            lats.append(0)\n",
        "            longs.append(0)\n",
        "            time.sleep(1) # add a 1-second delay between requests\n",
        "\n",
        "    # return a DataFrame with the geocoded addresses\n",
        "    return pd.DataFrame({'Address': addresses, 'Latitude': lats, 'Longitude': longs})\n",
        "\n",
        "# Call the Function to convert the adresses to Geolocations with Latitude and Longitude\n",
        "geocoded_new = geocode_addresses(df_clean[\"Address\"])\n",
        "print(geocoded_new.head())\n"
      ],
      "metadata": {
        "colab": {
          "base_uri": "https://localhost:8080/"
        },
        "id": "FnKJR6p9-3Cv",
        "outputId": "f9f8adc4-b961-433f-b9d1-c5e66f656794"
      },
      "execution_count": null,
      "outputs": [
        {
          "output_type": "stream",
          "name": "stdout",
          "text": [
            "                                             Address  Latitude  Longitude\n",
            "0             42 Grattan Street, Cork City, Co. Cork  51.89882   -8.48012\n",
            "1  1 Old Friary Place, Shandon Street, Cork City,...  51.90248   -8.47808\n",
            "2   179 Kilnap Place, Farranree, Farranree, Co. Cork  51.91443   -8.48010\n",
            "3    23 Tower Hill, Kilcoolishal, Glanmire, Co. Cork  51.92694   -8.39931\n",
            "4  14 Crestfield Mews, Riverstown, Glanmire, Co. ...  51.93510   -8.39284\n"
          ]
        }
      ]
    },
    {
      "cell_type": "code",
      "source": [
        " geocoded_new.info()"
      ],
      "metadata": {
        "colab": {
          "base_uri": "https://localhost:8080/"
        },
        "id": "g7awc3PHBF3e",
        "outputId": "60cc4328-eb4c-4035-e5f3-c96903ceea53"
      },
      "execution_count": null,
      "outputs": [
        {
          "output_type": "stream",
          "name": "stdout",
          "text": [
            "<class 'pandas.core.frame.DataFrame'>\n",
            "Int64Index: 419 entries, 0 to 433\n",
            "Data columns (total 3 columns):\n",
            " #   Column     Non-Null Count  Dtype  \n",
            "---  ------     --------------  -----  \n",
            " 0   Address    419 non-null    object \n",
            " 1   Latitude   419 non-null    float64\n",
            " 2   Longitude  419 non-null    float64\n",
            "dtypes: float64(2), object(1)\n",
            "memory usage: 29.3+ KB\n"
          ]
        }
      ]
    },
    {
      "cell_type": "code",
      "source": [
        "newdf"
      ],
      "metadata": {
        "id": "xkMXbddU8rcZ"
      },
      "execution_count": null,
      "outputs": []
    },
    {
      "cell_type": "code",
      "source": [
        "geocoded_new"
      ],
      "metadata": {
        "colab": {
          "base_uri": "https://localhost:8080/",
          "height": 424
        },
        "id": "RKAUeQvR-lJc",
        "outputId": "b72200ae-4805-41e6-8e51-0b4da1817c29"
      },
      "execution_count": null,
      "outputs": [
        {
          "output_type": "execute_result",
          "data": {
            "text/plain": [
              "                                               Address   Latitude  Longitude\n",
              "0               42 Grattan Street, Cork City, Co. Cork  51.898820  -8.480120\n",
              "1    1 Old Friary Place, Shandon Street, Cork City,...  51.902480  -8.478080\n",
              "2     179 Kilnap Place, Farranree, Farranree, Co. Cork  51.914430  -8.480100\n",
              "3      23 Tower Hill, Kilcoolishal, Glanmire, Co. Cork  51.926940  -8.399310\n",
              "4    14 Crestfield Mews, Riverstown, Glanmire, Co. ...  51.935100  -8.392840\n",
              "..                                                 ...        ...        ...\n",
              "414  20 The Garnish, Lancaster Gate, Western Road, ...  51.895890  -8.483450\n",
              "415              1 Dryden Place, Ballinlough, Co. Cork  51.890180  -8.455600\n",
              "416     207 Ashbrook, Victoria Cross, Wilton, Co. Cork  51.891017  -8.506510\n",
              "417  Opera Lane Residences, Cork City, Cork City Ce...  51.899003  -8.472568\n",
              "418              Well Road, Douglas, Douglas, Co. Cork  51.878677  -8.437655\n",
              "\n",
              "[419 rows x 3 columns]"
            ],
            "text/html": [
              "\n",
              "  <div id=\"df-e03b053e-c77d-4cc4-8112-f18da69f229b\">\n",
              "    <div class=\"colab-df-container\">\n",
              "      <div>\n",
              "<style scoped>\n",
              "    .dataframe tbody tr th:only-of-type {\n",
              "        vertical-align: middle;\n",
              "    }\n",
              "\n",
              "    .dataframe tbody tr th {\n",
              "        vertical-align: top;\n",
              "    }\n",
              "\n",
              "    .dataframe thead th {\n",
              "        text-align: right;\n",
              "    }\n",
              "</style>\n",
              "<table border=\"1\" class=\"dataframe\">\n",
              "  <thead>\n",
              "    <tr style=\"text-align: right;\">\n",
              "      <th></th>\n",
              "      <th>Address</th>\n",
              "      <th>Latitude</th>\n",
              "      <th>Longitude</th>\n",
              "    </tr>\n",
              "  </thead>\n",
              "  <tbody>\n",
              "    <tr>\n",
              "      <th>0</th>\n",
              "      <td>42 Grattan Street, Cork City, Co. Cork</td>\n",
              "      <td>51.898820</td>\n",
              "      <td>-8.480120</td>\n",
              "    </tr>\n",
              "    <tr>\n",
              "      <th>1</th>\n",
              "      <td>1 Old Friary Place, Shandon Street, Cork City,...</td>\n",
              "      <td>51.902480</td>\n",
              "      <td>-8.478080</td>\n",
              "    </tr>\n",
              "    <tr>\n",
              "      <th>2</th>\n",
              "      <td>179 Kilnap Place, Farranree, Farranree, Co. Cork</td>\n",
              "      <td>51.914430</td>\n",
              "      <td>-8.480100</td>\n",
              "    </tr>\n",
              "    <tr>\n",
              "      <th>3</th>\n",
              "      <td>23 Tower Hill, Kilcoolishal, Glanmire, Co. Cork</td>\n",
              "      <td>51.926940</td>\n",
              "      <td>-8.399310</td>\n",
              "    </tr>\n",
              "    <tr>\n",
              "      <th>4</th>\n",
              "      <td>14 Crestfield Mews, Riverstown, Glanmire, Co. ...</td>\n",
              "      <td>51.935100</td>\n",
              "      <td>-8.392840</td>\n",
              "    </tr>\n",
              "    <tr>\n",
              "      <th>...</th>\n",
              "      <td>...</td>\n",
              "      <td>...</td>\n",
              "      <td>...</td>\n",
              "    </tr>\n",
              "    <tr>\n",
              "      <th>414</th>\n",
              "      <td>20 The Garnish, Lancaster Gate, Western Road, ...</td>\n",
              "      <td>51.895890</td>\n",
              "      <td>-8.483450</td>\n",
              "    </tr>\n",
              "    <tr>\n",
              "      <th>415</th>\n",
              "      <td>1 Dryden Place, Ballinlough, Co. Cork</td>\n",
              "      <td>51.890180</td>\n",
              "      <td>-8.455600</td>\n",
              "    </tr>\n",
              "    <tr>\n",
              "      <th>416</th>\n",
              "      <td>207 Ashbrook, Victoria Cross, Wilton, Co. Cork</td>\n",
              "      <td>51.891017</td>\n",
              "      <td>-8.506510</td>\n",
              "    </tr>\n",
              "    <tr>\n",
              "      <th>417</th>\n",
              "      <td>Opera Lane Residences, Cork City, Cork City Ce...</td>\n",
              "      <td>51.899003</td>\n",
              "      <td>-8.472568</td>\n",
              "    </tr>\n",
              "    <tr>\n",
              "      <th>418</th>\n",
              "      <td>Well Road, Douglas, Douglas, Co. Cork</td>\n",
              "      <td>51.878677</td>\n",
              "      <td>-8.437655</td>\n",
              "    </tr>\n",
              "  </tbody>\n",
              "</table>\n",
              "<p>419 rows × 3 columns</p>\n",
              "</div>\n",
              "      <button class=\"colab-df-convert\" onclick=\"convertToInteractive('df-e03b053e-c77d-4cc4-8112-f18da69f229b')\"\n",
              "              title=\"Convert this dataframe to an interactive table.\"\n",
              "              style=\"display:none;\">\n",
              "        \n",
              "  <svg xmlns=\"http://www.w3.org/2000/svg\" height=\"24px\"viewBox=\"0 0 24 24\"\n",
              "       width=\"24px\">\n",
              "    <path d=\"M0 0h24v24H0V0z\" fill=\"none\"/>\n",
              "    <path d=\"M18.56 5.44l.94 2.06.94-2.06 2.06-.94-2.06-.94-.94-2.06-.94 2.06-2.06.94zm-11 1L8.5 8.5l.94-2.06 2.06-.94-2.06-.94L8.5 2.5l-.94 2.06-2.06.94zm10 10l.94 2.06.94-2.06 2.06-.94-2.06-.94-.94-2.06-.94 2.06-2.06.94z\"/><path d=\"M17.41 7.96l-1.37-1.37c-.4-.4-.92-.59-1.43-.59-.52 0-1.04.2-1.43.59L10.3 9.45l-7.72 7.72c-.78.78-.78 2.05 0 2.83L4 21.41c.39.39.9.59 1.41.59.51 0 1.02-.2 1.41-.59l7.78-7.78 2.81-2.81c.8-.78.8-2.07 0-2.86zM5.41 20L4 18.59l7.72-7.72 1.47 1.35L5.41 20z\"/>\n",
              "  </svg>\n",
              "      </button>\n",
              "      \n",
              "  <style>\n",
              "    .colab-df-container {\n",
              "      display:flex;\n",
              "      flex-wrap:wrap;\n",
              "      gap: 12px;\n",
              "    }\n",
              "\n",
              "    .colab-df-convert {\n",
              "      background-color: #E8F0FE;\n",
              "      border: none;\n",
              "      border-radius: 50%;\n",
              "      cursor: pointer;\n",
              "      display: none;\n",
              "      fill: #1967D2;\n",
              "      height: 32px;\n",
              "      padding: 0 0 0 0;\n",
              "      width: 32px;\n",
              "    }\n",
              "\n",
              "    .colab-df-convert:hover {\n",
              "      background-color: #E2EBFA;\n",
              "      box-shadow: 0px 1px 2px rgba(60, 64, 67, 0.3), 0px 1px 3px 1px rgba(60, 64, 67, 0.15);\n",
              "      fill: #174EA6;\n",
              "    }\n",
              "\n",
              "    [theme=dark] .colab-df-convert {\n",
              "      background-color: #3B4455;\n",
              "      fill: #D2E3FC;\n",
              "    }\n",
              "\n",
              "    [theme=dark] .colab-df-convert:hover {\n",
              "      background-color: #434B5C;\n",
              "      box-shadow: 0px 1px 3px 1px rgba(0, 0, 0, 0.15);\n",
              "      filter: drop-shadow(0px 1px 2px rgba(0, 0, 0, 0.3));\n",
              "      fill: #FFFFFF;\n",
              "    }\n",
              "  </style>\n",
              "\n",
              "      <script>\n",
              "        const buttonEl =\n",
              "          document.querySelector('#df-e03b053e-c77d-4cc4-8112-f18da69f229b button.colab-df-convert');\n",
              "        buttonEl.style.display =\n",
              "          google.colab.kernel.accessAllowed ? 'block' : 'none';\n",
              "\n",
              "        async function convertToInteractive(key) {\n",
              "          const element = document.querySelector('#df-e03b053e-c77d-4cc4-8112-f18da69f229b');\n",
              "          const dataTable =\n",
              "            await google.colab.kernel.invokeFunction('convertToInteractive',\n",
              "                                                     [key], {});\n",
              "          if (!dataTable) return;\n",
              "\n",
              "          const docLinkHtml = 'Like what you see? Visit the ' +\n",
              "            '<a target=\"_blank\" href=https://colab.research.google.com/notebooks/data_table.ipynb>data table notebook</a>'\n",
              "            + ' to learn more about interactive tables.';\n",
              "          element.innerHTML = '';\n",
              "          dataTable['output_type'] = 'display_data';\n",
              "          await google.colab.output.renderOutput(dataTable, element);\n",
              "          const docLink = document.createElement('div');\n",
              "          docLink.innerHTML = docLinkHtml;\n",
              "          element.appendChild(docLink);\n",
              "        }\n",
              "      </script>\n",
              "    </div>\n",
              "  </div>\n",
              "  "
            ]
          },
          "metadata": {},
          "execution_count": 149
        }
      ]
    },
    {
      "cell_type": "code",
      "source": [
        "geocoded_try.reset_index(drop=True, inplace=True)"
      ],
      "metadata": {
        "id": "1KejQYcLV6WL"
      },
      "execution_count": null,
      "outputs": []
    },
    {
      "cell_type": "code",
      "source": [
        "geocoded_new['geometry'] =  geocoded_try['geometry']"
      ],
      "metadata": {
        "id": "frN-cjPUICB9"
      },
      "execution_count": null,
      "outputs": []
    },
    {
      "cell_type": "markdown",
      "source": [
        "##One of the greatests advantages of scrapping is the low volume of missing data"
      ],
      "metadata": {
        "id": "tD5R2B5yQ5ro"
      }
    },
    {
      "cell_type": "code",
      "source": [
        " geocoded_try.isna().sum()\n"
      ],
      "metadata": {
        "colab": {
          "base_uri": "https://localhost:8080/"
        },
        "id": "uJDp5rawWHcT",
        "outputId": "42bc3e82-d0d3-4a1f-8116-96e5751a6a25"
      },
      "execution_count": null,
      "outputs": [
        {
          "output_type": "execute_result",
          "data": {
            "text/plain": [
              "geometry    0\n",
              "address     0\n",
              "dtype: int64"
            ]
          },
          "metadata": {},
          "execution_count": 181
        }
      ]
    },
    {
      "cell_type": "code",
      "source": [
        "geocoded_new"
      ],
      "metadata": {
        "colab": {
          "base_uri": "https://localhost:8080/",
          "height": 424
        },
        "id": "Y1-IN6QnIWlB",
        "outputId": "83708c4c-124a-4e4f-dbe1-af6357ec7ca4"
      },
      "execution_count": null,
      "outputs": [
        {
          "output_type": "execute_result",
          "data": {
            "text/plain": [
              "                                               Address   Latitude  Longitude  \\\n",
              "0               42 Grattan Street, Cork City, Co. Cork  51.898820  -8.480120   \n",
              "1    1 Old Friary Place, Shandon Street, Cork City,...  51.902480  -8.478080   \n",
              "2     179 Kilnap Place, Farranree, Farranree, Co. Cork  51.914430  -8.480100   \n",
              "3      23 Tower Hill, Kilcoolishal, Glanmire, Co. Cork  51.926940  -8.399310   \n",
              "4    14 Crestfield Mews, Riverstown, Glanmire, Co. ...  51.935100  -8.392840   \n",
              "..                                                 ...        ...        ...   \n",
              "414  20 The Garnish, Lancaster Gate, Western Road, ...  51.895890  -8.483450   \n",
              "415              1 Dryden Place, Ballinlough, Co. Cork  51.890180  -8.455600   \n",
              "416     207 Ashbrook, Victoria Cross, Wilton, Co. Cork  51.891017  -8.506510   \n",
              "417  Opera Lane Residences, Cork City, Cork City Ce...  51.899003  -8.472568   \n",
              "418              Well Road, Douglas, Douglas, Co. Cork  51.878677  -8.437655   \n",
              "\n",
              "                      geometry  \n",
              "0    POINT (-8.48012 51.89882)  \n",
              "1    POINT (-8.47808 51.90248)  \n",
              "2    POINT (-8.48010 51.91443)  \n",
              "3    POINT (-8.39931 51.92694)  \n",
              "4    POINT (-8.39284 51.93510)  \n",
              "..                         ...  \n",
              "414  POINT (-8.48345 51.89589)  \n",
              "415  POINT (-8.45560 51.89018)  \n",
              "416  POINT (-8.50651 51.89102)  \n",
              "417  POINT (-8.47257 51.89900)  \n",
              "418  POINT (-8.43765 51.87868)  \n",
              "\n",
              "[419 rows x 4 columns]"
            ],
            "text/html": [
              "\n",
              "  <div id=\"df-0aeaa8f2-240b-4a74-856f-d82e400e363d\">\n",
              "    <div class=\"colab-df-container\">\n",
              "      <div>\n",
              "<style scoped>\n",
              "    .dataframe tbody tr th:only-of-type {\n",
              "        vertical-align: middle;\n",
              "    }\n",
              "\n",
              "    .dataframe tbody tr th {\n",
              "        vertical-align: top;\n",
              "    }\n",
              "\n",
              "    .dataframe thead th {\n",
              "        text-align: right;\n",
              "    }\n",
              "</style>\n",
              "<table border=\"1\" class=\"dataframe\">\n",
              "  <thead>\n",
              "    <tr style=\"text-align: right;\">\n",
              "      <th></th>\n",
              "      <th>Address</th>\n",
              "      <th>Latitude</th>\n",
              "      <th>Longitude</th>\n",
              "      <th>geometry</th>\n",
              "    </tr>\n",
              "  </thead>\n",
              "  <tbody>\n",
              "    <tr>\n",
              "      <th>0</th>\n",
              "      <td>42 Grattan Street, Cork City, Co. Cork</td>\n",
              "      <td>51.898820</td>\n",
              "      <td>-8.480120</td>\n",
              "      <td>POINT (-8.48012 51.89882)</td>\n",
              "    </tr>\n",
              "    <tr>\n",
              "      <th>1</th>\n",
              "      <td>1 Old Friary Place, Shandon Street, Cork City,...</td>\n",
              "      <td>51.902480</td>\n",
              "      <td>-8.478080</td>\n",
              "      <td>POINT (-8.47808 51.90248)</td>\n",
              "    </tr>\n",
              "    <tr>\n",
              "      <th>2</th>\n",
              "      <td>179 Kilnap Place, Farranree, Farranree, Co. Cork</td>\n",
              "      <td>51.914430</td>\n",
              "      <td>-8.480100</td>\n",
              "      <td>POINT (-8.48010 51.91443)</td>\n",
              "    </tr>\n",
              "    <tr>\n",
              "      <th>3</th>\n",
              "      <td>23 Tower Hill, Kilcoolishal, Glanmire, Co. Cork</td>\n",
              "      <td>51.926940</td>\n",
              "      <td>-8.399310</td>\n",
              "      <td>POINT (-8.39931 51.92694)</td>\n",
              "    </tr>\n",
              "    <tr>\n",
              "      <th>4</th>\n",
              "      <td>14 Crestfield Mews, Riverstown, Glanmire, Co. ...</td>\n",
              "      <td>51.935100</td>\n",
              "      <td>-8.392840</td>\n",
              "      <td>POINT (-8.39284 51.93510)</td>\n",
              "    </tr>\n",
              "    <tr>\n",
              "      <th>...</th>\n",
              "      <td>...</td>\n",
              "      <td>...</td>\n",
              "      <td>...</td>\n",
              "      <td>...</td>\n",
              "    </tr>\n",
              "    <tr>\n",
              "      <th>414</th>\n",
              "      <td>20 The Garnish, Lancaster Gate, Western Road, ...</td>\n",
              "      <td>51.895890</td>\n",
              "      <td>-8.483450</td>\n",
              "      <td>POINT (-8.48345 51.89589)</td>\n",
              "    </tr>\n",
              "    <tr>\n",
              "      <th>415</th>\n",
              "      <td>1 Dryden Place, Ballinlough, Co. Cork</td>\n",
              "      <td>51.890180</td>\n",
              "      <td>-8.455600</td>\n",
              "      <td>POINT (-8.45560 51.89018)</td>\n",
              "    </tr>\n",
              "    <tr>\n",
              "      <th>416</th>\n",
              "      <td>207 Ashbrook, Victoria Cross, Wilton, Co. Cork</td>\n",
              "      <td>51.891017</td>\n",
              "      <td>-8.506510</td>\n",
              "      <td>POINT (-8.50651 51.89102)</td>\n",
              "    </tr>\n",
              "    <tr>\n",
              "      <th>417</th>\n",
              "      <td>Opera Lane Residences, Cork City, Cork City Ce...</td>\n",
              "      <td>51.899003</td>\n",
              "      <td>-8.472568</td>\n",
              "      <td>POINT (-8.47257 51.89900)</td>\n",
              "    </tr>\n",
              "    <tr>\n",
              "      <th>418</th>\n",
              "      <td>Well Road, Douglas, Douglas, Co. Cork</td>\n",
              "      <td>51.878677</td>\n",
              "      <td>-8.437655</td>\n",
              "      <td>POINT (-8.43765 51.87868)</td>\n",
              "    </tr>\n",
              "  </tbody>\n",
              "</table>\n",
              "<p>419 rows × 4 columns</p>\n",
              "</div>\n",
              "      <button class=\"colab-df-convert\" onclick=\"convertToInteractive('df-0aeaa8f2-240b-4a74-856f-d82e400e363d')\"\n",
              "              title=\"Convert this dataframe to an interactive table.\"\n",
              "              style=\"display:none;\">\n",
              "        \n",
              "  <svg xmlns=\"http://www.w3.org/2000/svg\" height=\"24px\"viewBox=\"0 0 24 24\"\n",
              "       width=\"24px\">\n",
              "    <path d=\"M0 0h24v24H0V0z\" fill=\"none\"/>\n",
              "    <path d=\"M18.56 5.44l.94 2.06.94-2.06 2.06-.94-2.06-.94-.94-2.06-.94 2.06-2.06.94zm-11 1L8.5 8.5l.94-2.06 2.06-.94-2.06-.94L8.5 2.5l-.94 2.06-2.06.94zm10 10l.94 2.06.94-2.06 2.06-.94-2.06-.94-.94-2.06-.94 2.06-2.06.94z\"/><path d=\"M17.41 7.96l-1.37-1.37c-.4-.4-.92-.59-1.43-.59-.52 0-1.04.2-1.43.59L10.3 9.45l-7.72 7.72c-.78.78-.78 2.05 0 2.83L4 21.41c.39.39.9.59 1.41.59.51 0 1.02-.2 1.41-.59l7.78-7.78 2.81-2.81c.8-.78.8-2.07 0-2.86zM5.41 20L4 18.59l7.72-7.72 1.47 1.35L5.41 20z\"/>\n",
              "  </svg>\n",
              "      </button>\n",
              "      \n",
              "  <style>\n",
              "    .colab-df-container {\n",
              "      display:flex;\n",
              "      flex-wrap:wrap;\n",
              "      gap: 12px;\n",
              "    }\n",
              "\n",
              "    .colab-df-convert {\n",
              "      background-color: #E8F0FE;\n",
              "      border: none;\n",
              "      border-radius: 50%;\n",
              "      cursor: pointer;\n",
              "      display: none;\n",
              "      fill: #1967D2;\n",
              "      height: 32px;\n",
              "      padding: 0 0 0 0;\n",
              "      width: 32px;\n",
              "    }\n",
              "\n",
              "    .colab-df-convert:hover {\n",
              "      background-color: #E2EBFA;\n",
              "      box-shadow: 0px 1px 2px rgba(60, 64, 67, 0.3), 0px 1px 3px 1px rgba(60, 64, 67, 0.15);\n",
              "      fill: #174EA6;\n",
              "    }\n",
              "\n",
              "    [theme=dark] .colab-df-convert {\n",
              "      background-color: #3B4455;\n",
              "      fill: #D2E3FC;\n",
              "    }\n",
              "\n",
              "    [theme=dark] .colab-df-convert:hover {\n",
              "      background-color: #434B5C;\n",
              "      box-shadow: 0px 1px 3px 1px rgba(0, 0, 0, 0.15);\n",
              "      filter: drop-shadow(0px 1px 2px rgba(0, 0, 0, 0.3));\n",
              "      fill: #FFFFFF;\n",
              "    }\n",
              "  </style>\n",
              "\n",
              "      <script>\n",
              "        const buttonEl =\n",
              "          document.querySelector('#df-0aeaa8f2-240b-4a74-856f-d82e400e363d button.colab-df-convert');\n",
              "        buttonEl.style.display =\n",
              "          google.colab.kernel.accessAllowed ? 'block' : 'none';\n",
              "\n",
              "        async function convertToInteractive(key) {\n",
              "          const element = document.querySelector('#df-0aeaa8f2-240b-4a74-856f-d82e400e363d');\n",
              "          const dataTable =\n",
              "            await google.colab.kernel.invokeFunction('convertToInteractive',\n",
              "                                                     [key], {});\n",
              "          if (!dataTable) return;\n",
              "\n",
              "          const docLinkHtml = 'Like what you see? Visit the ' +\n",
              "            '<a target=\"_blank\" href=https://colab.research.google.com/notebooks/data_table.ipynb>data table notebook</a>'\n",
              "            + ' to learn more about interactive tables.';\n",
              "          element.innerHTML = '';\n",
              "          dataTable['output_type'] = 'display_data';\n",
              "          await google.colab.output.renderOutput(dataTable, element);\n",
              "          const docLink = document.createElement('div');\n",
              "          docLink.innerHTML = docLinkHtml;\n",
              "          element.appendChild(docLink);\n",
              "        }\n",
              "      </script>\n",
              "    </div>\n",
              "  </div>\n",
              "  "
            ]
          },
          "metadata": {},
          "execution_count": 182
        }
      ]
    },
    {
      "cell_type": "code",
      "source": [
        "geocoded_new.to_csv('geocoded_addresses.csv', index=False)"
      ],
      "metadata": {
        "id": "ZW1xJMngBPpm"
      },
      "execution_count": null,
      "outputs": []
    },
    {
      "cell_type": "code",
      "source": [
        "df_clean.reset_index(drop=True, inplace=True)"
      ],
      "metadata": {
        "id": "O69ewSJz-SZl"
      },
      "execution_count": null,
      "outputs": []
    },
    {
      "cell_type": "code",
      "source": [
        "df_clean.head(100)"
      ],
      "metadata": {
        "colab": {
          "base_uri": "https://localhost:8080/",
          "height": 424
        },
        "id": "2ccMcGhMBxkY",
        "outputId": "52e8d4b9-8c45-46a2-9f3d-7ec08e55d754"
      },
      "execution_count": null,
      "outputs": [
        {
          "output_type": "execute_result",
          "data": {
            "text/plain": [
              "                                              Address   Price  Beds  Baths  \\\n",
              "0              42 Grattan Street, Cork City, Co. Cork  265000     4      2   \n",
              "1   1 Old Friary Place, Shandon Street, Cork City,...  275000     2      2   \n",
              "2    179 Kilnap Place, Farranree, Farranree, Co. Cork  225000     3      1   \n",
              "3     23 Tower Hill, Kilcoolishal, Glanmire, Co. Cork  580000     5      3   \n",
              "4   14 Crestfield Mews, Riverstown, Glanmire, Co. ...  290000     3      1   \n",
              "..                                                ...     ...   ...    ...   \n",
              "95                   71 Cluain Ard, Blarney, Co. Cork  345000     3      3   \n",
              "96   Pinewood, Healy's Bridge, Carrigrohane, Co. Cork  449000     4      3   \n",
              "97              13 Farren Street, Blackpool, Co. Cork   75000     1      1   \n",
              "98  10 The Paddocks, Maryborough Hill, Douglas, Co...  895000     4      3   \n",
              "99              101 Commons Road, Cork City, Co. Cork  225000     3      2   \n",
              "\n",
              "    Area  \n",
              "0    104  \n",
              "1     70  \n",
              "2     75  \n",
              "3    282  \n",
              "4     76  \n",
              "..   ...  \n",
              "95   124  \n",
              "96   131  \n",
              "97    35  \n",
              "98   209  \n",
              "99    85  \n",
              "\n",
              "[100 rows x 5 columns]"
            ],
            "text/html": [
              "\n",
              "  <div id=\"df-393e228f-8b52-4a1a-b73d-ac25d36f7759\">\n",
              "    <div class=\"colab-df-container\">\n",
              "      <div>\n",
              "<style scoped>\n",
              "    .dataframe tbody tr th:only-of-type {\n",
              "        vertical-align: middle;\n",
              "    }\n",
              "\n",
              "    .dataframe tbody tr th {\n",
              "        vertical-align: top;\n",
              "    }\n",
              "\n",
              "    .dataframe thead th {\n",
              "        text-align: right;\n",
              "    }\n",
              "</style>\n",
              "<table border=\"1\" class=\"dataframe\">\n",
              "  <thead>\n",
              "    <tr style=\"text-align: right;\">\n",
              "      <th></th>\n",
              "      <th>Address</th>\n",
              "      <th>Price</th>\n",
              "      <th>Beds</th>\n",
              "      <th>Baths</th>\n",
              "      <th>Area</th>\n",
              "    </tr>\n",
              "  </thead>\n",
              "  <tbody>\n",
              "    <tr>\n",
              "      <th>0</th>\n",
              "      <td>42 Grattan Street, Cork City, Co. Cork</td>\n",
              "      <td>265000</td>\n",
              "      <td>4</td>\n",
              "      <td>2</td>\n",
              "      <td>104</td>\n",
              "    </tr>\n",
              "    <tr>\n",
              "      <th>1</th>\n",
              "      <td>1 Old Friary Place, Shandon Street, Cork City,...</td>\n",
              "      <td>275000</td>\n",
              "      <td>2</td>\n",
              "      <td>2</td>\n",
              "      <td>70</td>\n",
              "    </tr>\n",
              "    <tr>\n",
              "      <th>2</th>\n",
              "      <td>179 Kilnap Place, Farranree, Farranree, Co. Cork</td>\n",
              "      <td>225000</td>\n",
              "      <td>3</td>\n",
              "      <td>1</td>\n",
              "      <td>75</td>\n",
              "    </tr>\n",
              "    <tr>\n",
              "      <th>3</th>\n",
              "      <td>23 Tower Hill, Kilcoolishal, Glanmire, Co. Cork</td>\n",
              "      <td>580000</td>\n",
              "      <td>5</td>\n",
              "      <td>3</td>\n",
              "      <td>282</td>\n",
              "    </tr>\n",
              "    <tr>\n",
              "      <th>4</th>\n",
              "      <td>14 Crestfield Mews, Riverstown, Glanmire, Co. ...</td>\n",
              "      <td>290000</td>\n",
              "      <td>3</td>\n",
              "      <td>1</td>\n",
              "      <td>76</td>\n",
              "    </tr>\n",
              "    <tr>\n",
              "      <th>...</th>\n",
              "      <td>...</td>\n",
              "      <td>...</td>\n",
              "      <td>...</td>\n",
              "      <td>...</td>\n",
              "      <td>...</td>\n",
              "    </tr>\n",
              "    <tr>\n",
              "      <th>95</th>\n",
              "      <td>71 Cluain Ard, Blarney, Co. Cork</td>\n",
              "      <td>345000</td>\n",
              "      <td>3</td>\n",
              "      <td>3</td>\n",
              "      <td>124</td>\n",
              "    </tr>\n",
              "    <tr>\n",
              "      <th>96</th>\n",
              "      <td>Pinewood, Healy's Bridge, Carrigrohane, Co. Cork</td>\n",
              "      <td>449000</td>\n",
              "      <td>4</td>\n",
              "      <td>3</td>\n",
              "      <td>131</td>\n",
              "    </tr>\n",
              "    <tr>\n",
              "      <th>97</th>\n",
              "      <td>13 Farren Street, Blackpool, Co. Cork</td>\n",
              "      <td>75000</td>\n",
              "      <td>1</td>\n",
              "      <td>1</td>\n",
              "      <td>35</td>\n",
              "    </tr>\n",
              "    <tr>\n",
              "      <th>98</th>\n",
              "      <td>10 The Paddocks, Maryborough Hill, Douglas, Co...</td>\n",
              "      <td>895000</td>\n",
              "      <td>4</td>\n",
              "      <td>3</td>\n",
              "      <td>209</td>\n",
              "    </tr>\n",
              "    <tr>\n",
              "      <th>99</th>\n",
              "      <td>101 Commons Road, Cork City, Co. Cork</td>\n",
              "      <td>225000</td>\n",
              "      <td>3</td>\n",
              "      <td>2</td>\n",
              "      <td>85</td>\n",
              "    </tr>\n",
              "  </tbody>\n",
              "</table>\n",
              "<p>100 rows × 5 columns</p>\n",
              "</div>\n",
              "      <button class=\"colab-df-convert\" onclick=\"convertToInteractive('df-393e228f-8b52-4a1a-b73d-ac25d36f7759')\"\n",
              "              title=\"Convert this dataframe to an interactive table.\"\n",
              "              style=\"display:none;\">\n",
              "        \n",
              "  <svg xmlns=\"http://www.w3.org/2000/svg\" height=\"24px\"viewBox=\"0 0 24 24\"\n",
              "       width=\"24px\">\n",
              "    <path d=\"M0 0h24v24H0V0z\" fill=\"none\"/>\n",
              "    <path d=\"M18.56 5.44l.94 2.06.94-2.06 2.06-.94-2.06-.94-.94-2.06-.94 2.06-2.06.94zm-11 1L8.5 8.5l.94-2.06 2.06-.94-2.06-.94L8.5 2.5l-.94 2.06-2.06.94zm10 10l.94 2.06.94-2.06 2.06-.94-2.06-.94-.94-2.06-.94 2.06-2.06.94z\"/><path d=\"M17.41 7.96l-1.37-1.37c-.4-.4-.92-.59-1.43-.59-.52 0-1.04.2-1.43.59L10.3 9.45l-7.72 7.72c-.78.78-.78 2.05 0 2.83L4 21.41c.39.39.9.59 1.41.59.51 0 1.02-.2 1.41-.59l7.78-7.78 2.81-2.81c.8-.78.8-2.07 0-2.86zM5.41 20L4 18.59l7.72-7.72 1.47 1.35L5.41 20z\"/>\n",
              "  </svg>\n",
              "      </button>\n",
              "      \n",
              "  <style>\n",
              "    .colab-df-container {\n",
              "      display:flex;\n",
              "      flex-wrap:wrap;\n",
              "      gap: 12px;\n",
              "    }\n",
              "\n",
              "    .colab-df-convert {\n",
              "      background-color: #E8F0FE;\n",
              "      border: none;\n",
              "      border-radius: 50%;\n",
              "      cursor: pointer;\n",
              "      display: none;\n",
              "      fill: #1967D2;\n",
              "      height: 32px;\n",
              "      padding: 0 0 0 0;\n",
              "      width: 32px;\n",
              "    }\n",
              "\n",
              "    .colab-df-convert:hover {\n",
              "      background-color: #E2EBFA;\n",
              "      box-shadow: 0px 1px 2px rgba(60, 64, 67, 0.3), 0px 1px 3px 1px rgba(60, 64, 67, 0.15);\n",
              "      fill: #174EA6;\n",
              "    }\n",
              "\n",
              "    [theme=dark] .colab-df-convert {\n",
              "      background-color: #3B4455;\n",
              "      fill: #D2E3FC;\n",
              "    }\n",
              "\n",
              "    [theme=dark] .colab-df-convert:hover {\n",
              "      background-color: #434B5C;\n",
              "      box-shadow: 0px 1px 3px 1px rgba(0, 0, 0, 0.15);\n",
              "      filter: drop-shadow(0px 1px 2px rgba(0, 0, 0, 0.3));\n",
              "      fill: #FFFFFF;\n",
              "    }\n",
              "  </style>\n",
              "\n",
              "      <script>\n",
              "        const buttonEl =\n",
              "          document.querySelector('#df-393e228f-8b52-4a1a-b73d-ac25d36f7759 button.colab-df-convert');\n",
              "        buttonEl.style.display =\n",
              "          google.colab.kernel.accessAllowed ? 'block' : 'none';\n",
              "\n",
              "        async function convertToInteractive(key) {\n",
              "          const element = document.querySelector('#df-393e228f-8b52-4a1a-b73d-ac25d36f7759');\n",
              "          const dataTable =\n",
              "            await google.colab.kernel.invokeFunction('convertToInteractive',\n",
              "                                                     [key], {});\n",
              "          if (!dataTable) return;\n",
              "\n",
              "          const docLinkHtml = 'Like what you see? Visit the ' +\n",
              "            '<a target=\"_blank\" href=https://colab.research.google.com/notebooks/data_table.ipynb>data table notebook</a>'\n",
              "            + ' to learn more about interactive tables.';\n",
              "          element.innerHTML = '';\n",
              "          dataTable['output_type'] = 'display_data';\n",
              "          await google.colab.output.renderOutput(dataTable, element);\n",
              "          const docLink = document.createElement('div');\n",
              "          docLink.innerHTML = docLinkHtml;\n",
              "          element.appendChild(docLink);\n",
              "        }\n",
              "      </script>\n",
              "    </div>\n",
              "  </div>\n",
              "  "
            ]
          },
          "metadata": {},
          "execution_count": 154
        }
      ]
    },
    {
      "cell_type": "markdown",
      "source": [
        "##Merging the Data from the website with the information from Geopandas"
      ],
      "metadata": {
        "id": "lDsJxFdhROvH"
      }
    },
    {
      "cell_type": "code",
      "source": [
        "# Merge the two dataframes by address\n",
        "merged_df=pd.concat([df_clean, geocoded_new[['Latitude','Longitude','geometry']]], axis=1)\n",
        "\n",
        "# Display the merged dataframe\n",
        "merged_df"
      ],
      "metadata": {
        "colab": {
          "base_uri": "https://localhost:8080/",
          "height": 424
        },
        "id": "6Od1TBUJCUaC",
        "outputId": "0e8bf5fe-6964-48a4-a60b-2c30fcf08d1c"
      },
      "execution_count": null,
      "outputs": [
        {
          "output_type": "execute_result",
          "data": {
            "text/plain": [
              "                                               Address   Price  Beds  Baths  \\\n",
              "0               42 Grattan Street, Cork City, Co. Cork  265000     4      2   \n",
              "1    1 Old Friary Place, Shandon Street, Cork City,...  275000     2      2   \n",
              "2     179 Kilnap Place, Farranree, Farranree, Co. Cork  225000     3      1   \n",
              "3      23 Tower Hill, Kilcoolishal, Glanmire, Co. Cork  580000     5      3   \n",
              "4    14 Crestfield Mews, Riverstown, Glanmire, Co. ...  290000     3      1   \n",
              "..                                                 ...     ...   ...    ...   \n",
              "414  20 The Garnish, Lancaster Gate, Western Road, ...  400000     2      2   \n",
              "415              1 Dryden Place, Ballinlough, Co. Cork  315000     4      2   \n",
              "416     207 Ashbrook, Victoria Cross, Wilton, Co. Cork  255000     3      1   \n",
              "417  Opera Lane Residences, Cork City, Cork City Ce...  465000     2      2   \n",
              "418              Well Road, Douglas, Douglas, Co. Cork  995000     4      4   \n",
              "\n",
              "     Area   Latitude  Longitude                   geometry  \n",
              "0     104  51.898820  -8.480120  POINT (-8.48012 51.89882)  \n",
              "1      70  51.902480  -8.478080  POINT (-8.47808 51.90248)  \n",
              "2      75  51.914430  -8.480100  POINT (-8.48010 51.91443)  \n",
              "3     282  51.926940  -8.399310  POINT (-8.39931 51.92694)  \n",
              "4      76  51.935100  -8.392840  POINT (-8.39284 51.93510)  \n",
              "..    ...        ...        ...                        ...  \n",
              "414    72  51.895890  -8.483450  POINT (-8.48345 51.89589)  \n",
              "415   134  51.890180  -8.455600  POINT (-8.45560 51.89018)  \n",
              "416    56  51.891017  -8.506510  POINT (-8.50651 51.89102)  \n",
              "417    92  51.899003  -8.472568  POINT (-8.47257 51.89900)  \n",
              "418   232  51.878677  -8.437655  POINT (-8.43765 51.87868)  \n",
              "\n",
              "[419 rows x 8 columns]"
            ],
            "text/html": [
              "\n",
              "  <div id=\"df-70d40753-b4ef-41c9-a82c-7b7dcb0ff47e\">\n",
              "    <div class=\"colab-df-container\">\n",
              "      <div>\n",
              "<style scoped>\n",
              "    .dataframe tbody tr th:only-of-type {\n",
              "        vertical-align: middle;\n",
              "    }\n",
              "\n",
              "    .dataframe tbody tr th {\n",
              "        vertical-align: top;\n",
              "    }\n",
              "\n",
              "    .dataframe thead th {\n",
              "        text-align: right;\n",
              "    }\n",
              "</style>\n",
              "<table border=\"1\" class=\"dataframe\">\n",
              "  <thead>\n",
              "    <tr style=\"text-align: right;\">\n",
              "      <th></th>\n",
              "      <th>Address</th>\n",
              "      <th>Price</th>\n",
              "      <th>Beds</th>\n",
              "      <th>Baths</th>\n",
              "      <th>Area</th>\n",
              "      <th>Latitude</th>\n",
              "      <th>Longitude</th>\n",
              "      <th>geometry</th>\n",
              "    </tr>\n",
              "  </thead>\n",
              "  <tbody>\n",
              "    <tr>\n",
              "      <th>0</th>\n",
              "      <td>42 Grattan Street, Cork City, Co. Cork</td>\n",
              "      <td>265000</td>\n",
              "      <td>4</td>\n",
              "      <td>2</td>\n",
              "      <td>104</td>\n",
              "      <td>51.898820</td>\n",
              "      <td>-8.480120</td>\n",
              "      <td>POINT (-8.48012 51.89882)</td>\n",
              "    </tr>\n",
              "    <tr>\n",
              "      <th>1</th>\n",
              "      <td>1 Old Friary Place, Shandon Street, Cork City,...</td>\n",
              "      <td>275000</td>\n",
              "      <td>2</td>\n",
              "      <td>2</td>\n",
              "      <td>70</td>\n",
              "      <td>51.902480</td>\n",
              "      <td>-8.478080</td>\n",
              "      <td>POINT (-8.47808 51.90248)</td>\n",
              "    </tr>\n",
              "    <tr>\n",
              "      <th>2</th>\n",
              "      <td>179 Kilnap Place, Farranree, Farranree, Co. Cork</td>\n",
              "      <td>225000</td>\n",
              "      <td>3</td>\n",
              "      <td>1</td>\n",
              "      <td>75</td>\n",
              "      <td>51.914430</td>\n",
              "      <td>-8.480100</td>\n",
              "      <td>POINT (-8.48010 51.91443)</td>\n",
              "    </tr>\n",
              "    <tr>\n",
              "      <th>3</th>\n",
              "      <td>23 Tower Hill, Kilcoolishal, Glanmire, Co. Cork</td>\n",
              "      <td>580000</td>\n",
              "      <td>5</td>\n",
              "      <td>3</td>\n",
              "      <td>282</td>\n",
              "      <td>51.926940</td>\n",
              "      <td>-8.399310</td>\n",
              "      <td>POINT (-8.39931 51.92694)</td>\n",
              "    </tr>\n",
              "    <tr>\n",
              "      <th>4</th>\n",
              "      <td>14 Crestfield Mews, Riverstown, Glanmire, Co. ...</td>\n",
              "      <td>290000</td>\n",
              "      <td>3</td>\n",
              "      <td>1</td>\n",
              "      <td>76</td>\n",
              "      <td>51.935100</td>\n",
              "      <td>-8.392840</td>\n",
              "      <td>POINT (-8.39284 51.93510)</td>\n",
              "    </tr>\n",
              "    <tr>\n",
              "      <th>...</th>\n",
              "      <td>...</td>\n",
              "      <td>...</td>\n",
              "      <td>...</td>\n",
              "      <td>...</td>\n",
              "      <td>...</td>\n",
              "      <td>...</td>\n",
              "      <td>...</td>\n",
              "      <td>...</td>\n",
              "    </tr>\n",
              "    <tr>\n",
              "      <th>414</th>\n",
              "      <td>20 The Garnish, Lancaster Gate, Western Road, ...</td>\n",
              "      <td>400000</td>\n",
              "      <td>2</td>\n",
              "      <td>2</td>\n",
              "      <td>72</td>\n",
              "      <td>51.895890</td>\n",
              "      <td>-8.483450</td>\n",
              "      <td>POINT (-8.48345 51.89589)</td>\n",
              "    </tr>\n",
              "    <tr>\n",
              "      <th>415</th>\n",
              "      <td>1 Dryden Place, Ballinlough, Co. Cork</td>\n",
              "      <td>315000</td>\n",
              "      <td>4</td>\n",
              "      <td>2</td>\n",
              "      <td>134</td>\n",
              "      <td>51.890180</td>\n",
              "      <td>-8.455600</td>\n",
              "      <td>POINT (-8.45560 51.89018)</td>\n",
              "    </tr>\n",
              "    <tr>\n",
              "      <th>416</th>\n",
              "      <td>207 Ashbrook, Victoria Cross, Wilton, Co. Cork</td>\n",
              "      <td>255000</td>\n",
              "      <td>3</td>\n",
              "      <td>1</td>\n",
              "      <td>56</td>\n",
              "      <td>51.891017</td>\n",
              "      <td>-8.506510</td>\n",
              "      <td>POINT (-8.50651 51.89102)</td>\n",
              "    </tr>\n",
              "    <tr>\n",
              "      <th>417</th>\n",
              "      <td>Opera Lane Residences, Cork City, Cork City Ce...</td>\n",
              "      <td>465000</td>\n",
              "      <td>2</td>\n",
              "      <td>2</td>\n",
              "      <td>92</td>\n",
              "      <td>51.899003</td>\n",
              "      <td>-8.472568</td>\n",
              "      <td>POINT (-8.47257 51.89900)</td>\n",
              "    </tr>\n",
              "    <tr>\n",
              "      <th>418</th>\n",
              "      <td>Well Road, Douglas, Douglas, Co. Cork</td>\n",
              "      <td>995000</td>\n",
              "      <td>4</td>\n",
              "      <td>4</td>\n",
              "      <td>232</td>\n",
              "      <td>51.878677</td>\n",
              "      <td>-8.437655</td>\n",
              "      <td>POINT (-8.43765 51.87868)</td>\n",
              "    </tr>\n",
              "  </tbody>\n",
              "</table>\n",
              "<p>419 rows × 8 columns</p>\n",
              "</div>\n",
              "      <button class=\"colab-df-convert\" onclick=\"convertToInteractive('df-70d40753-b4ef-41c9-a82c-7b7dcb0ff47e')\"\n",
              "              title=\"Convert this dataframe to an interactive table.\"\n",
              "              style=\"display:none;\">\n",
              "        \n",
              "  <svg xmlns=\"http://www.w3.org/2000/svg\" height=\"24px\"viewBox=\"0 0 24 24\"\n",
              "       width=\"24px\">\n",
              "    <path d=\"M0 0h24v24H0V0z\" fill=\"none\"/>\n",
              "    <path d=\"M18.56 5.44l.94 2.06.94-2.06 2.06-.94-2.06-.94-.94-2.06-.94 2.06-2.06.94zm-11 1L8.5 8.5l.94-2.06 2.06-.94-2.06-.94L8.5 2.5l-.94 2.06-2.06.94zm10 10l.94 2.06.94-2.06 2.06-.94-2.06-.94-.94-2.06-.94 2.06-2.06.94z\"/><path d=\"M17.41 7.96l-1.37-1.37c-.4-.4-.92-.59-1.43-.59-.52 0-1.04.2-1.43.59L10.3 9.45l-7.72 7.72c-.78.78-.78 2.05 0 2.83L4 21.41c.39.39.9.59 1.41.59.51 0 1.02-.2 1.41-.59l7.78-7.78 2.81-2.81c.8-.78.8-2.07 0-2.86zM5.41 20L4 18.59l7.72-7.72 1.47 1.35L5.41 20z\"/>\n",
              "  </svg>\n",
              "      </button>\n",
              "      \n",
              "  <style>\n",
              "    .colab-df-container {\n",
              "      display:flex;\n",
              "      flex-wrap:wrap;\n",
              "      gap: 12px;\n",
              "    }\n",
              "\n",
              "    .colab-df-convert {\n",
              "      background-color: #E8F0FE;\n",
              "      border: none;\n",
              "      border-radius: 50%;\n",
              "      cursor: pointer;\n",
              "      display: none;\n",
              "      fill: #1967D2;\n",
              "      height: 32px;\n",
              "      padding: 0 0 0 0;\n",
              "      width: 32px;\n",
              "    }\n",
              "\n",
              "    .colab-df-convert:hover {\n",
              "      background-color: #E2EBFA;\n",
              "      box-shadow: 0px 1px 2px rgba(60, 64, 67, 0.3), 0px 1px 3px 1px rgba(60, 64, 67, 0.15);\n",
              "      fill: #174EA6;\n",
              "    }\n",
              "\n",
              "    [theme=dark] .colab-df-convert {\n",
              "      background-color: #3B4455;\n",
              "      fill: #D2E3FC;\n",
              "    }\n",
              "\n",
              "    [theme=dark] .colab-df-convert:hover {\n",
              "      background-color: #434B5C;\n",
              "      box-shadow: 0px 1px 3px 1px rgba(0, 0, 0, 0.15);\n",
              "      filter: drop-shadow(0px 1px 2px rgba(0, 0, 0, 0.3));\n",
              "      fill: #FFFFFF;\n",
              "    }\n",
              "  </style>\n",
              "\n",
              "      <script>\n",
              "        const buttonEl =\n",
              "          document.querySelector('#df-70d40753-b4ef-41c9-a82c-7b7dcb0ff47e button.colab-df-convert');\n",
              "        buttonEl.style.display =\n",
              "          google.colab.kernel.accessAllowed ? 'block' : 'none';\n",
              "\n",
              "        async function convertToInteractive(key) {\n",
              "          const element = document.querySelector('#df-70d40753-b4ef-41c9-a82c-7b7dcb0ff47e');\n",
              "          const dataTable =\n",
              "            await google.colab.kernel.invokeFunction('convertToInteractive',\n",
              "                                                     [key], {});\n",
              "          if (!dataTable) return;\n",
              "\n",
              "          const docLinkHtml = 'Like what you see? Visit the ' +\n",
              "            '<a target=\"_blank\" href=https://colab.research.google.com/notebooks/data_table.ipynb>data table notebook</a>'\n",
              "            + ' to learn more about interactive tables.';\n",
              "          element.innerHTML = '';\n",
              "          dataTable['output_type'] = 'display_data';\n",
              "          await google.colab.output.renderOutput(dataTable, element);\n",
              "          const docLink = document.createElement('div');\n",
              "          docLink.innerHTML = docLinkHtml;\n",
              "          element.appendChild(docLink);\n",
              "        }\n",
              "      </script>\n",
              "    </div>\n",
              "  </div>\n",
              "  "
            ]
          },
          "metadata": {},
          "execution_count": 187
        }
      ]
    },
    {
      "cell_type": "code",
      "source": [
        "merged_df.isna().sum()"
      ],
      "metadata": {
        "colab": {
          "base_uri": "https://localhost:8080/"
        },
        "id": "e0hU-ivGWy_X",
        "outputId": "d1070173-a874-45d4-ed97-99264bff3a15"
      },
      "execution_count": null,
      "outputs": [
        {
          "output_type": "execute_result",
          "data": {
            "text/plain": [
              "Address      0\n",
              "Price        0\n",
              "Beds         0\n",
              "Baths        0\n",
              "Area         0\n",
              "Latitude     0\n",
              "Longitude    0\n",
              "geometry     0\n",
              "dtype: int64"
            ]
          },
          "metadata": {},
          "execution_count": 190
        }
      ]
    },
    {
      "cell_type": "code",
      "source": [
        "merged_df.to_csv('stage2_df.csv', index=False)"
      ],
      "metadata": {
        "id": "6A8rkjLfL_bt"
      },
      "execution_count": null,
      "outputs": []
    },
    {
      "cell_type": "markdown",
      "source": [
        "### Another backup"
      ],
      "metadata": {
        "id": "wzNSpVDWRq51"
      }
    },
    {
      "cell_type": "code",
      "source": [
        "df_ready = pd.read_csv(\"https://raw.githubusercontent.com/orlandojrps/stream/main/stage2_df.csv\")"
      ],
      "metadata": {
        "id": "SFq-7cMmBJZ6"
      },
      "execution_count": null,
      "outputs": []
    },
    {
      "cell_type": "markdown",
      "source": [
        "##Function to Plot the coordenates in the Map. Ref.: http://openstreetmap.org/"
      ],
      "metadata": {
        "id": "cqBocbnyR6db"
      }
    },
    {
      "cell_type": "code",
      "source": [
        "# Function to plot in Map\n",
        "def geocode_and_plot_addresses(df):\n",
        "    geolocator = Nominatim(user_agent='my-application') # create a geolocator object\n",
        "    addresses = df['Address'].tolist() # extract addresses from DataFrame\n",
        "    lats = []\n",
        "    longs = []\n",
        "    \n",
        "    # loop over addresses, geocode each one, and extract the latitude and longitude\n",
        "    for address in addresses:\n",
        "        location = geolocator.geocode(address)\n",
        "        time.sleep(2) # add a 1.1-second interval between requests\n",
        "\n",
        "    \n",
        "    # plot the coordinates on a map using Folium\n",
        "    map_center = [51.897928, -8.470579] # center the map on Cork City\n",
        "    m = folium.Map(location=map_center, zoom_start=12)\n",
        "    for i, row in df.iterrows():\n",
        "        if row['Latitude'] and row['Longitude']:\n",
        "            folium.Marker([row['Latitude'], row['Longitude']], popup=row['Address']).add_to(m)\n",
        "    return m\n",
        "\n"
      ],
      "metadata": {
        "id": "OzQ3FrUMGNmn"
      },
      "execution_count": null,
      "outputs": []
    },
    {
      "cell_type": "code",
      "source": [
        "# call the function and display the resulting map in the notebook\n",
        "m = geocode_and_plot_addresses(df_ready.head(2))\n",
        "m\n"
      ],
      "metadata": {
        "colab": {
          "base_uri": "https://localhost:8080/",
          "height": 915
        },
        "id": "mZXlPUVCHEMT",
        "outputId": "f14890ab-1bad-4b3e-fd9c-5409e0d69130"
      },
      "execution_count": null,
      "outputs": [
        {
          "output_type": "execute_result",
          "data": {
            "text/plain": [
              "<folium.folium.Map at 0x7ff9cd291160>"
            ],
            "text/html": [
              "<div style=\"width:100%;\"><div style=\"position:relative;width:100%;height:0;padding-bottom:60%;\"><span style=\"color:#565656\">Make this Notebook Trusted to load map: File -> Trust Notebook</span><iframe srcdoc=\"&lt;!DOCTYPE html&gt;\n",
              "&lt;html&gt;\n",
              "&lt;head&gt;\n",
              "    \n",
              "    &lt;meta http-equiv=&quot;content-type&quot; content=&quot;text/html; charset=UTF-8&quot; /&gt;\n",
              "    \n",
              "        &lt;script&gt;\n",
              "            L_NO_TOUCH = false;\n",
              "            L_DISABLE_3D = false;\n",
              "        &lt;/script&gt;\n",
              "    \n",
              "    &lt;style&gt;html, body {width: 100%;height: 100%;margin: 0;padding: 0;}&lt;/style&gt;\n",
              "    &lt;style&gt;#map {position:absolute;top:0;bottom:0;right:0;left:0;}&lt;/style&gt;\n",
              "    &lt;script src=&quot;https://cdn.jsdelivr.net/npm/leaflet@1.6.0/dist/leaflet.js&quot;&gt;&lt;/script&gt;\n",
              "    &lt;script src=&quot;https://code.jquery.com/jquery-1.12.4.min.js&quot;&gt;&lt;/script&gt;\n",
              "    &lt;script src=&quot;https://maxcdn.bootstrapcdn.com/bootstrap/3.2.0/js/bootstrap.min.js&quot;&gt;&lt;/script&gt;\n",
              "    &lt;script src=&quot;https://cdnjs.cloudflare.com/ajax/libs/Leaflet.awesome-markers/2.0.2/leaflet.awesome-markers.js&quot;&gt;&lt;/script&gt;\n",
              "    &lt;link rel=&quot;stylesheet&quot; href=&quot;https://cdn.jsdelivr.net/npm/leaflet@1.6.0/dist/leaflet.css&quot;/&gt;\n",
              "    &lt;link rel=&quot;stylesheet&quot; href=&quot;https://maxcdn.bootstrapcdn.com/bootstrap/3.2.0/css/bootstrap.min.css&quot;/&gt;\n",
              "    &lt;link rel=&quot;stylesheet&quot; href=&quot;https://maxcdn.bootstrapcdn.com/bootstrap/3.2.0/css/bootstrap-theme.min.css&quot;/&gt;\n",
              "    &lt;link rel=&quot;stylesheet&quot; href=&quot;https://maxcdn.bootstrapcdn.com/font-awesome/4.6.3/css/font-awesome.min.css&quot;/&gt;\n",
              "    &lt;link rel=&quot;stylesheet&quot; href=&quot;https://cdnjs.cloudflare.com/ajax/libs/Leaflet.awesome-markers/2.0.2/leaflet.awesome-markers.css&quot;/&gt;\n",
              "    &lt;link rel=&quot;stylesheet&quot; href=&quot;https://cdn.jsdelivr.net/gh/python-visualization/folium/folium/templates/leaflet.awesome.rotate.min.css&quot;/&gt;\n",
              "    \n",
              "            &lt;meta name=&quot;viewport&quot; content=&quot;width=device-width,\n",
              "                initial-scale=1.0, maximum-scale=1.0, user-scalable=no&quot; /&gt;\n",
              "            &lt;style&gt;\n",
              "                #map_38784b11a9a1b51b7a7e8a025b78de17 {\n",
              "                    position: relative;\n",
              "                    width: 100.0%;\n",
              "                    height: 100.0%;\n",
              "                    left: 0.0%;\n",
              "                    top: 0.0%;\n",
              "                }\n",
              "            &lt;/style&gt;\n",
              "        \n",
              "&lt;/head&gt;\n",
              "&lt;body&gt;\n",
              "    \n",
              "    \n",
              "            &lt;div class=&quot;folium-map&quot; id=&quot;map_38784b11a9a1b51b7a7e8a025b78de17&quot; &gt;&lt;/div&gt;\n",
              "        \n",
              "&lt;/body&gt;\n",
              "&lt;script&gt;\n",
              "    \n",
              "    \n",
              "            var map_38784b11a9a1b51b7a7e8a025b78de17 = L.map(\n",
              "                &quot;map_38784b11a9a1b51b7a7e8a025b78de17&quot;,\n",
              "                {\n",
              "                    center: [51.897928, -8.470579],\n",
              "                    crs: L.CRS.EPSG3857,\n",
              "                    zoom: 12,\n",
              "                    zoomControl: true,\n",
              "                    preferCanvas: false,\n",
              "                }\n",
              "            );\n",
              "\n",
              "            \n",
              "\n",
              "        \n",
              "    \n",
              "            var tile_layer_75dbc750d1ae2961872657b25dae036d = L.tileLayer(\n",
              "                &quot;https://{s}.tile.openstreetmap.org/{z}/{x}/{y}.png&quot;,\n",
              "                {&quot;attribution&quot;: &quot;Data by \\u0026copy; \\u003ca href=\\&quot;http://openstreetmap.org\\&quot;\\u003eOpenStreetMap\\u003c/a\\u003e, under \\u003ca href=\\&quot;http://www.openstreetmap.org/copyright\\&quot;\\u003eODbL\\u003c/a\\u003e.&quot;, &quot;detectRetina&quot;: false, &quot;maxNativeZoom&quot;: 18, &quot;maxZoom&quot;: 18, &quot;minZoom&quot;: 0, &quot;noWrap&quot;: false, &quot;opacity&quot;: 1, &quot;subdomains&quot;: &quot;abc&quot;, &quot;tms&quot;: false}\n",
              "            ).addTo(map_38784b11a9a1b51b7a7e8a025b78de17);\n",
              "        \n",
              "    \n",
              "            var marker_415c98157badb499d69c979228763ef9 = L.marker(\n",
              "                [51.89882001927998, -8.480119969919372],\n",
              "                {}\n",
              "            ).addTo(map_38784b11a9a1b51b7a7e8a025b78de17);\n",
              "        \n",
              "    \n",
              "        var popup_ed61cc0920feb7e5fe5f4f294ed11123 = L.popup({&quot;maxWidth&quot;: &quot;100%&quot;});\n",
              "\n",
              "        \n",
              "            var html_2d906c6ecb81b51253be6aa228e70757 = $(`&lt;div id=&quot;html_2d906c6ecb81b51253be6aa228e70757&quot; style=&quot;width: 100.0%; height: 100.0%;&quot;&gt;42 Grattan Street, Cork City, Co. Cork&lt;/div&gt;`)[0];\n",
              "            popup_ed61cc0920feb7e5fe5f4f294ed11123.setContent(html_2d906c6ecb81b51253be6aa228e70757);\n",
              "        \n",
              "\n",
              "        marker_415c98157badb499d69c979228763ef9.bindPopup(popup_ed61cc0920feb7e5fe5f4f294ed11123)\n",
              "        ;\n",
              "\n",
              "        \n",
              "    \n",
              "    \n",
              "            var marker_e690d53cf965b0469b2769a8a6a48382 = L.marker(\n",
              "                [51.902480019211055, -8.478079982324545],\n",
              "                {}\n",
              "            ).addTo(map_38784b11a9a1b51b7a7e8a025b78de17);\n",
              "        \n",
              "    \n",
              "        var popup_4f81fbf27fd087c04185cc713927b5e9 = L.popup({&quot;maxWidth&quot;: &quot;100%&quot;});\n",
              "\n",
              "        \n",
              "            var html_083ab58573d7d18c60db18198748b479 = $(`&lt;div id=&quot;html_083ab58573d7d18c60db18198748b479&quot; style=&quot;width: 100.0%; height: 100.0%;&quot;&gt;1 Old Friary Place, Shandon Street, Cork City, Co. Cork&lt;/div&gt;`)[0];\n",
              "            popup_4f81fbf27fd087c04185cc713927b5e9.setContent(html_083ab58573d7d18c60db18198748b479);\n",
              "        \n",
              "\n",
              "        marker_e690d53cf965b0469b2769a8a6a48382.bindPopup(popup_4f81fbf27fd087c04185cc713927b5e9)\n",
              "        ;\n",
              "\n",
              "        \n",
              "    \n",
              "&lt;/script&gt;\n",
              "&lt;/html&gt;\" style=\"position:absolute;width:100%;height:100%;left:0;top:0;border:none !important;\" allowfullscreen webkitallowfullscreen mozallowfullscreen></iframe></div></div>"
            ]
          },
          "metadata": {},
          "execution_count": 194
        }
      ]
    },
    {
      "cell_type": "code",
      "source": [
        "df_ready.Price.describe()"
      ],
      "metadata": {
        "colab": {
          "base_uri": "https://localhost:8080/"
        },
        "id": "YQIODKqoNkFH",
        "outputId": "3ad200a2-7cfc-4a33-83fe-f448cb27b433"
      },
      "execution_count": null,
      "outputs": [
        {
          "output_type": "execute_result",
          "data": {
            "text/plain": [
              "count    4.190000e+02\n",
              "mean     3.452959e+05\n",
              "std      1.781911e+05\n",
              "min      7.500000e+04\n",
              "25%      2.350000e+05\n",
              "50%      2.950000e+05\n",
              "75%      3.950000e+05\n",
              "max      1.500000e+06\n",
              "Name: Price, dtype: float64"
            ]
          },
          "metadata": {},
          "execution_count": 196
        }
      ]
    },
    {
      "cell_type": "code",
      "source": [
        "df_ready.Price"
      ],
      "metadata": {
        "colab": {
          "base_uri": "https://localhost:8080/"
        },
        "id": "PgVK_gBR-gcH",
        "outputId": "1862623b-b4e8-42cc-c43a-70bef648b8fb"
      },
      "execution_count": null,
      "outputs": [
        {
          "output_type": "execute_result",
          "data": {
            "text/plain": [
              "0      265000\n",
              "1      275000\n",
              "2      225000\n",
              "3      580000\n",
              "4      290000\n",
              "        ...  \n",
              "414    400000\n",
              "415    315000\n",
              "416    255000\n",
              "417    465000\n",
              "418    995000\n",
              "Name: Price, Length: 419, dtype: int64"
            ]
          },
          "metadata": {},
          "execution_count": 197
        }
      ]
    },
    {
      "cell_type": "code",
      "source": [
        "df_ready.Price.describe().apply(lambda x: format(x, '.2f'))\n"
      ],
      "metadata": {
        "colab": {
          "base_uri": "https://localhost:8080/"
        },
        "id": "ClT9oORzOEwx",
        "outputId": "60071e99-2af7-4af1-9c5d-0a2c2339887f"
      },
      "execution_count": null,
      "outputs": [
        {
          "output_type": "execute_result",
          "data": {
            "text/plain": [
              "count        419.00\n",
              "mean      345295.94\n",
              "std       178191.14\n",
              "min        75000.00\n",
              "25%       235000.00\n",
              "50%       295000.00\n",
              "75%       395000.00\n",
              "max      1500000.00\n",
              "Name: Price, dtype: object"
            ]
          },
          "metadata": {},
          "execution_count": 198
        }
      ]
    },
    {
      "cell_type": "code",
      "source": [
        "df_ready.to_csv('df_end_file2.csv', index=False)"
      ],
      "metadata": {
        "id": "ffyTEKhWJN18"
      },
      "execution_count": null,
      "outputs": []
    },
    {
      "cell_type": "markdown",
      "source": [
        "##Plot for testing the structure of DataSet. "
      ],
      "metadata": {
        "id": "iWbaBwEBSi6F"
      }
    },
    {
      "cell_type": "code",
      "source": [
        "fig = plt.subplots(figsize = (18,8))\n",
        "\n",
        "sns.boxplot( x='Beds', y='Price', data=df_ready );"
      ],
      "metadata": {
        "colab": {
          "base_uri": "https://localhost:8080/",
          "height": 508
        },
        "id": "KNm6eG1nPQIn",
        "outputId": "a41ff3ea-b877-42ac-ff66-7f4be798fe00"
      },
      "execution_count": null,
      "outputs": [
        {
          "output_type": "display_data",
          "data": {
            "text/plain": [
              "<Figure size 1296x576 with 1 Axes>"
            ],
            "image/png": "[encoded data removed]"
          },
          "metadata": {
            "needs_background": "light"
          }
        }
      ]
    },
    {
      "cell_type": "markdown",
      "source": [
        "##We finish this File with success in Webscraping the data from the website and now the dataset is ready for next Stage - EDA, Modeling and Deploy"
      ],
      "metadata": {
        "id": "LX6AQrhxSph9"
      }
    }
  ]
}